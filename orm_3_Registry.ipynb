{
 "cells": [
  {
   "cell_type": "markdown",
   "metadata": {},
   "source": [
    "# Introduction"
   ]
  },
  {
   "cell_type": "markdown",
   "metadata": {},
   "source": [
    "The European Transaction Log (EUTL) is the backbone of the European Union Emissions Trading System (EUETS). It implements the transfer of emission allowances between parties active in the EUETS. The EUTL provides data on regulated installations, their emissions as well as transfers of allowances.  \n",
    "\n",
    "Assuming that the database has been successfully populated with the EUTL data (see 1_create_database.ipynb), this notebook illustrates how to analyze compliance and transactions on the registry level.\n",
    "\n",
    "Specifically, we consider the German registry with the identifier DE."
   ]
  },
  {
   "cell_type": "code",
   "execution_count": 1,
   "metadata": {},
   "outputs": [],
   "source": [
    "id_reg = \"DE\""
   ]
  },
  {
   "cell_type": "markdown",
   "metadata": {},
   "source": [
    "# Packages and options"
   ]
  },
  {
   "cell_type": "code",
   "execution_count": 2,
   "metadata": {},
   "outputs": [],
   "source": [
    "from pyeutl.orm import DataAccessLayer       # data access layer to access the database\n",
    "from pyeutl.orm import Country, Installation  # use country class to access registries\n",
    "import pandas as pd\n",
    "import matplotlib.pyplot as plt\n",
    "%matplotlib inline"
   ]
  },
  {
   "cell_type": "markdown",
   "metadata": {},
   "source": [
    "Database connection settings"
   ]
  },
  {
   "cell_type": "code",
   "execution_count": 3,
   "metadata": {},
   "outputs": [],
   "source": [
    "connectionSettings = dict(\n",
    "    user=\"eutlAdmin\", \n",
    "    host=\"localhost\", \n",
    "    db=\"eutl_orm\", \n",
    "    passw=\"1234\",\n",
    "    port=5432\n",
    ")"
   ]
  },
  {
   "cell_type": "markdown",
   "metadata": {},
   "source": [
    "# Connect to database"
   ]
  },
  {
   "cell_type": "markdown",
   "metadata": {},
   "source": [
    "Connect to database and get a session:"
   ]
  },
  {
   "cell_type": "code",
   "execution_count": 4,
   "metadata": {},
   "outputs": [],
   "source": [
    "dal = DataAccessLayer(**connectionSettings)\n",
    "session = dal.session"
   ]
  },
  {
   "cell_type": "markdown",
   "metadata": {},
   "source": [
    "# Get registry"
   ]
  },
  {
   "cell_type": "markdown",
   "metadata": {},
   "source": [
    "Given the registry id, use the session to get the registry:"
   ]
  },
  {
   "cell_type": "code",
   "execution_count": 5,
   "metadata": {},
   "outputs": [
    {
     "name": "stdout",
     "output_type": "stream",
     "text": [
      "DE: Germany\n"
     ]
    }
   ],
   "source": [
    "registry = session.query(Country).get(id_reg)\n",
    "print(registry.id + \": \" + registry.name)"
   ]
  },
  {
   "cell_type": "markdown",
   "metadata": {},
   "source": [
    "# Installations"
   ]
  },
  {
   "cell_type": "markdown",
   "metadata": {},
   "source": [
    "## Low-level access: Get installation objects"
   ]
  },
  {
   "cell_type": "markdown",
   "metadata": {},
   "source": [
    "The country object has a property \"installations_in_registry\" which returns the query to get all installations registered in the country. The property \"installations_in_country\" returns all installations located in the country. "
   ]
  },
  {
   "cell_type": "code",
   "execution_count": 6,
   "metadata": {},
   "outputs": [
    {
     "data": {
      "text/plain": [
       "<sqlalchemy.orm.dynamic.AppenderQuery at 0x18969b04400>"
      ]
     },
     "execution_count": 6,
     "metadata": {},
     "output_type": "execute_result"
    }
   ],
   "source": [
    "inst = registry.installations_in_registry\n",
    "inst"
   ]
  },
  {
   "cell_type": "markdown",
   "metadata": {},
   "source": [
    "Given the query we can either fetch the results:"
   ]
  },
  {
   "cell_type": "code",
   "execution_count": 7,
   "metadata": {},
   "outputs": [
    {
     "data": {
      "text/plain": [
       "[<Installation('DE_201569', '14557', <Country('DE', 'Germany')>)>,\n",
       " <Installation('DE_200437', '9243', <Country('DE', 'Germany')>)>,\n",
       " <Installation('DE_200440', '1778', <Country('DE', 'Germany')>)>,\n",
       " <Installation('DE_994', 'Heizkraftwerk Afferde', <Country('DE', 'Germany')>)>,\n",
       " <Installation('DE_1038', 'Fernheizwerk Neukölln', <Country('DE', 'Germany')>)>]"
      ]
     },
     "execution_count": 7,
     "metadata": {},
     "output_type": "execute_result"
    }
   ],
   "source": [
    "inst.first()          # get only first results\n",
    "inst.all()            # get all results\n",
    "inst.limit(5).all()   # get first 5 results "
   ]
  },
  {
   "cell_type": "markdown",
   "metadata": {},
   "source": [
    "We could also further filter the results, e.g., getting all installations under activity 1 or 20 (combustion of fuels):"
   ]
  },
  {
   "cell_type": "code",
   "execution_count": 8,
   "metadata": {},
   "outputs": [
    {
     "name": "stdout",
     "output_type": "stream",
     "text": [
      "Number of combustion installations:  1511\n"
     ]
    }
   ],
   "source": [
    "t_ = inst.filter(Installation.activity_id.in_([1, 20])).all()\n",
    "print(\"Number of combustion installations: \", len(t_))"
   ]
  },
  {
   "cell_type": "markdown",
   "metadata": {},
   "source": [
    "## More easy: get_installations()"
   ]
  },
  {
   "cell_type": "markdown",
   "metadata": {},
   "source": [
    "The low-level access is useful to directly get the installation objects which allows constructing different filters. For convenience, get_installations() implements a method that returns all installations in the registry as a Pandas dataframe."
   ]
  },
  {
   "cell_type": "code",
   "execution_count": 9,
   "metadata": {},
   "outputs": [
    {
     "name": "stdout",
     "output_type": "stream",
     "text": [
      "<class 'pandas.core.frame.DataFrame'>\n",
      "RangeIndex: 2855 entries, 0 to 2854\n",
      "Data columns (total 37 columns):\n",
      " #   Column               Non-Null Count  Dtype         \n",
      "---  ------               --------------  -----         \n",
      " 0   monitoringID         208 non-null    object        \n",
      " 1   nace15_id            2288 non-null   object        \n",
      " 2   registry_id          2855 non-null   object        \n",
      " 3   postalCode           2854 non-null   object        \n",
      " 4   addressSecondary     186 non-null    object        \n",
      " 5   monitoringExpiry     0 non-null      object        \n",
      " 6   nace20_id            2484 non-null   object        \n",
      " 7   activity_id          2855 non-null   int64         \n",
      " 8   city                 2854 non-null   object        \n",
      " 9   monitoringFirstYear  208 non-null    object        \n",
      " 10  nace_id              2692 non-null   object        \n",
      " 11  eprtrID              2115 non-null   object        \n",
      " 12  country_id           2854 non-null   object        \n",
      " 13  permitDateExpiry     581 non-null    datetime64[ns]\n",
      " 14  euEntitlement        2250 non-null   float64       \n",
      " 15  parentCompany        2072 non-null   object        \n",
      " 16  latitudeEutl         11 non-null     float64       \n",
      " 17  isAircraftOperator   2854 non-null   object        \n",
      " 18  chEntitlement        9 non-null      float64       \n",
      " 19  subsidiaryCompany    1958 non-null   object        \n",
      " 20  longitudeEutl        11 non-null     float64       \n",
      " 21  ec748_2009Code       208 non-null    object        \n",
      " 22  permitID             2646 non-null   object        \n",
      " 23  latitudeGoogle       2646 non-null   float64       \n",
      " 24  id                   2855 non-null   object        \n",
      " 25  permitDateEntry      2646 non-null   datetime64[ns]\n",
      " 26  designatorICAO       105 non-null    object        \n",
      " 27  longitudeGoogle      2646 non-null   float64       \n",
      " 28  name                 2855 non-null   object        \n",
      " 29  addressMain          2854 non-null   object        \n",
      " 30  tradingSystem_id     2855 non-null   object        \n",
      " 31  registry             2855 non-null   object        \n",
      " 32  activity             2855 non-null   object        \n",
      " 33  activity_category    2854 non-null   object        \n",
      " 34  nace                 2692 non-null   object        \n",
      " 35  nace_category        2692 non-null   object        \n",
      " 36  country              2854 non-null   object        \n",
      "dtypes: datetime64[ns](2), float64(6), int64(1), object(28)\n",
      "memory usage: 825.4+ KB\n"
     ]
    }
   ],
   "source": [
    "inst = registry.get_installations()\n",
    "inst.info()"
   ]
  },
  {
   "cell_type": "markdown",
   "metadata": {},
   "source": [
    "To get an overview about the number of activities we can use a simple groupby operation but need to to be aware that some installations do not have a Nace code assigned:"
   ]
  },
  {
   "cell_type": "code",
   "execution_count": 10,
   "metadata": {},
   "outputs": [
    {
     "data": {
      "text/html": [
       "<div>\n",
       "<style scoped>\n",
       "    .dataframe tbody tr th:only-of-type {\n",
       "        vertical-align: middle;\n",
       "    }\n",
       "\n",
       "    .dataframe tbody tr th {\n",
       "        vertical-align: top;\n",
       "    }\n",
       "\n",
       "    .dataframe thead th {\n",
       "        text-align: right;\n",
       "    }\n",
       "</style>\n",
       "<table border=\"1\" class=\"dataframe\">\n",
       "  <thead>\n",
       "    <tr style=\"text-align: right;\">\n",
       "      <th></th>\n",
       "      <th>id</th>\n",
       "    </tr>\n",
       "    <tr>\n",
       "      <th>nace</th>\n",
       "      <th></th>\n",
       "    </tr>\n",
       "  </thead>\n",
       "  <tbody>\n",
       "    <tr>\n",
       "      <th>Steam and air conditioning supply</th>\n",
       "      <td>598</td>\n",
       "    </tr>\n",
       "    <tr>\n",
       "      <th>Production of electricity</th>\n",
       "      <td>257</td>\n",
       "    </tr>\n",
       "    <tr>\n",
       "      <th>Air transport</th>\n",
       "      <td>208</td>\n",
       "    </tr>\n",
       "    <tr>\n",
       "      <th>NaN</th>\n",
       "      <td>163</td>\n",
       "    </tr>\n",
       "    <tr>\n",
       "      <th>Manufacture of paper and paperboard</th>\n",
       "      <td>159</td>\n",
       "    </tr>\n",
       "  </tbody>\n",
       "</table>\n",
       "</div>"
      ],
      "text/plain": [
       "                                      id\n",
       "nace                                    \n",
       "Steam and air conditioning supply    598\n",
       "Production of electricity            257\n",
       "Air transport                        208\n",
       "NaN                                  163\n",
       "Manufacture of paper and paperboard  159"
      ]
     },
     "execution_count": 10,
     "metadata": {},
     "output_type": "execute_result"
    }
   ],
   "source": [
    "inst.groupby(\"nace\", dropna=False)[[\"id\"]].count().sort_values(\"id\", ascending=False).head(5)"
   ]
  },
  {
   "cell_type": "markdown",
   "metadata": {},
   "source": [
    "Most installations provide either heat or electricity (or both). The large number of NaN results from aircraft operators that do not have a nace code assigned: "
   ]
  },
  {
   "cell_type": "code",
   "execution_count": 11,
   "metadata": {},
   "outputs": [
    {
     "data": {
      "text/html": [
       "<div>\n",
       "<style scoped>\n",
       "    .dataframe tbody tr th:only-of-type {\n",
       "        vertical-align: middle;\n",
       "    }\n",
       "\n",
       "    .dataframe tbody tr th {\n",
       "        vertical-align: top;\n",
       "    }\n",
       "\n",
       "    .dataframe thead th {\n",
       "        text-align: right;\n",
       "    }\n",
       "</style>\n",
       "<table border=\"1\" class=\"dataframe\">\n",
       "  <thead>\n",
       "    <tr style=\"text-align: right;\">\n",
       "      <th></th>\n",
       "      <th></th>\n",
       "      <th>id</th>\n",
       "    </tr>\n",
       "    <tr>\n",
       "      <th>activity</th>\n",
       "      <th>activity_id</th>\n",
       "      <th></th>\n",
       "    </tr>\n",
       "  </thead>\n",
       "  <tbody>\n",
       "    <tr>\n",
       "      <th>Combustion of fuels</th>\n",
       "      <th>20</th>\n",
       "      <td>71</td>\n",
       "    </tr>\n",
       "    <tr>\n",
       "      <th>Production of bulk chemicals</th>\n",
       "      <th>42</th>\n",
       "      <td>56</td>\n",
       "    </tr>\n",
       "    <tr>\n",
       "      <th>Combustion installations with a rated thermal input exceeding 20 MW</th>\n",
       "      <th>1</th>\n",
       "      <td>9</td>\n",
       "    </tr>\n",
       "    <tr>\n",
       "      <th>Production of paper or cardboard</th>\n",
       "      <th>36</th>\n",
       "      <td>6</td>\n",
       "    </tr>\n",
       "  </tbody>\n",
       "</table>\n",
       "</div>"
      ],
      "text/plain": [
       "                                                                id\n",
       "activity                                           activity_id    \n",
       "Combustion of fuels                                20           71\n",
       "Production of bulk chemicals                       42           56\n",
       "Combustion installations with a rated thermal i... 1             9\n",
       "Production of paper or cardboard                   36            6"
      ]
     },
     "execution_count": 11,
     "metadata": {},
     "output_type": "execute_result"
    }
   ],
   "source": [
    "inst[pd.isnull(inst.nace)].groupby([\"activity\", \"activity_id\"])[[\"id\"]].count()\\\n",
    "        .sort_values(\"id\", ascending=False).head(4)"
   ]
  },
  {
   "cell_type": "markdown",
   "metadata": {},
   "source": [
    "The get_installation() method implements allows filtering installations based on installation attributes. For this, provide a dictionary with the installation attribute as key and a *list* as values. The dataframe returned only includes installations with attribute values as given in the respective list.\n",
    "\n",
    "As an example, filter again for installations related to combustion activities:"
   ]
  },
  {
   "cell_type": "code",
   "execution_count": 12,
   "metadata": {},
   "outputs": [
    {
     "name": "stdout",
     "output_type": "stream",
     "text": [
      "Number of combustion installations:  1511\n"
     ]
    }
   ],
   "source": [
    "filt = {\"activity_id\": [1, 20]}\n",
    "t_ = registry.get_installations(filter=filt)\n",
    "print(\"Number of combustion installations: \", len(t_))"
   ]
  },
  {
   "cell_type": "code",
   "execution_count": 13,
   "metadata": {},
   "outputs": [
    {
     "data": {
      "text/plain": [
       "array([20,  1], dtype=int64)"
      ]
     },
     "execution_count": 13,
     "metadata": {},
     "output_type": "execute_result"
    }
   ],
   "source": [
    "registry.get_installations(filter=filt).activity_id.unique()"
   ]
  },
  {
   "cell_type": "markdown",
   "metadata": {},
   "source": [
    "# Compliance"
   ]
  },
  {
   "cell_type": "markdown",
   "metadata": {},
   "source": [
    "## Low-level: Using installation objects"
   ]
  },
  {
   "cell_type": "markdown",
   "metadata": {},
   "source": [
    "Given a list of installation objects, we can analyze each installation in same manner as outline in the previous notebook. \n",
    "\n",
    "As an example, consider getting all compliance data for combustion activities in the selected registry:"
   ]
  },
  {
   "cell_type": "code",
   "execution_count": 14,
   "metadata": {},
   "outputs": [
    {
     "name": "stdout",
     "output_type": "stream",
     "text": [
      "Number of combustion installations:  1511\n"
     ]
    }
   ],
   "source": [
    "comb = registry.installations_in_registry.filter(Installation.activity_id.in_([1, 20])).all()\n",
    "print(\"Number of combustion installations: \", len(comb))"
   ]
  },
  {
   "cell_type": "markdown",
   "metadata": {},
   "source": [
    "Now follow the previous notebook and get the compliance data:"
   ]
  },
  {
   "cell_type": "code",
   "execution_count": 21,
   "metadata": {},
   "outputs": [
    {
     "name": "stdout",
     "output_type": "stream",
     "text": [
      "<class 'pandas.core.frame.DataFrame'>\n",
      "Int64Index: 39286 entries, 0 to 25\n",
      "Data columns (total 17 columns):\n",
      " #   Column                  Non-Null Count  Dtype \n",
      "---  ------                  --------------  ----- \n",
      " 0   penalty                 0 non-null      object\n",
      " 1   surrenderedCummulative  19732 non-null  object\n",
      " 2   verifiedUpdated         39286 non-null  bool  \n",
      " 3   verifiedCummulative     19429 non-null  object\n",
      " 4   allocated10c            0 non-null      object\n",
      " 5   allocatedNewEntrance    598 non-null    object\n",
      " 6   compliance_id           18875 non-null  object\n",
      " 7   reportedInSystem_id     39286 non-null  object\n",
      " 8   installation_id         39286 non-null  object\n",
      " 9   balance                 0 non-null      object\n",
      " 10  surrendered             18577 non-null  object\n",
      " 11  verified                19125 non-null  object\n",
      " 12  allocatedTotal          39286 non-null  int64 \n",
      " 13  allocatedFree           21362 non-null  object\n",
      " 14  euetsPhase              39286 non-null  object\n",
      " 15  year                    39286 non-null  int64 \n",
      " 16  compliance              18875 non-null  object\n",
      "dtypes: bool(1), int64(2), object(14)\n",
      "memory usage: 5.1+ MB\n"
     ]
    }
   ],
   "source": [
    "df_comb = pd.concat([c.get_compliance() for c in comb])\n",
    "df_comb.info()"
   ]
  },
  {
   "cell_type": "markdown",
   "metadata": {},
   "source": [
    "Accessing data in this way, has the advantage to be rather flexible in allowing to access that data for each installation. However, that comes at performance cost. Moreover, you either need to join installation information like names and activities or to further aggregate the data. \n",
    "\n",
    "Therefore, the country object provides further methods that already include these information and aggregations."
   ]
  },
  {
   "cell_type": "markdown",
   "metadata": {},
   "source": [
    "## High level: get_compliance()"
   ]
  },
  {
   "cell_type": "markdown",
   "metadata": {},
   "source": [
    "get_compliance() returns a dataframe of compliance data related to the registry including limited installation details:"
   ]
  },
  {
   "cell_type": "code",
   "execution_count": 22,
   "metadata": {},
   "outputs": [
    {
     "name": "stdout",
     "output_type": "stream",
     "text": [
      "<class 'pandas.core.frame.DataFrame'>\n",
      "RangeIndex: 76423 entries, 0 to 76422\n",
      "Data columns (total 15 columns):\n",
      " #   Column                Non-Null Count  Dtype  \n",
      "---  ------                --------------  -----  \n",
      " 0   installation_id       76423 non-null  object \n",
      " 1   installation_name     76423 non-null  object \n",
      " 2   activity_id           76423 non-null  int64  \n",
      " 3   activity              76423 non-null  object \n",
      " 4   nace_id               72203 non-null  object \n",
      " 5   nace                  72203 non-null  object \n",
      " 6   year                  76423 non-null  int64  \n",
      " 7   surrendered           32005 non-null  float64\n",
      " 8   verified              33408 non-null  float64\n",
      " 9   allocatedTotal        76423 non-null  int64  \n",
      " 10  allocatedFree         38225 non-null  float64\n",
      " 11  allocated10c          14 non-null     float64\n",
      " 12  allocatedNewEntrance  1256 non-null   float64\n",
      " 13  nace_category         76423 non-null  object \n",
      " 14  activity_category     76423 non-null  object \n",
      "dtypes: float64(5), int64(3), object(7)\n",
      "memory usage: 8.7+ MB\n"
     ]
    }
   ],
   "source": [
    "df_comp = registry.get_compliance()\n",
    "df_comp.info()"
   ]
  },
  {
   "cell_type": "markdown",
   "metadata": {},
   "source": [
    "Note that the installation data contain a special installation, that represent the Effort Sharing performance of the respective registry. This installation is always named after the two-digit country identifier and then esd. This approach was chosen to fit the ESD data into the general data model. It allows to easily access the ESD compliance of the registry. We next use the ESD identifier to separate EUETS compliance data from those under the ESD:"
   ]
  },
  {
   "cell_type": "code",
   "execution_count": 31,
   "metadata": {},
   "outputs": [
    {
     "data": {
      "text/html": [
       "<div>\n",
       "<style scoped>\n",
       "    .dataframe tbody tr th:only-of-type {\n",
       "        vertical-align: middle;\n",
       "    }\n",
       "\n",
       "    .dataframe tbody tr th {\n",
       "        vertical-align: top;\n",
       "    }\n",
       "\n",
       "    .dataframe thead th {\n",
       "        text-align: right;\n",
       "    }\n",
       "</style>\n",
       "<table border=\"1\" class=\"dataframe\">\n",
       "  <thead>\n",
       "    <tr style=\"text-align: right;\">\n",
       "      <th></th>\n",
       "      <th>installation_id</th>\n",
       "      <th>installation_name</th>\n",
       "      <th>activity_id</th>\n",
       "      <th>activity</th>\n",
       "      <th>nace_id</th>\n",
       "      <th>nace</th>\n",
       "      <th>year</th>\n",
       "      <th>surrendered</th>\n",
       "      <th>verified</th>\n",
       "      <th>allocatedTotal</th>\n",
       "      <th>allocatedFree</th>\n",
       "      <th>allocated10c</th>\n",
       "      <th>allocatedNewEntrance</th>\n",
       "      <th>nace_category</th>\n",
       "      <th>activity_category</th>\n",
       "    </tr>\n",
       "  </thead>\n",
       "  <tbody>\n",
       "    <tr>\n",
       "      <th>0</th>\n",
       "      <td>DE_200110</td>\n",
       "      <td>201</td>\n",
       "      <td>10</td>\n",
       "      <td>Aircraft operator activities</td>\n",
       "      <td>51</td>\n",
       "      <td>Air transport</td>\n",
       "      <td>2005</td>\n",
       "      <td>NaN</td>\n",
       "      <td>NaN</td>\n",
       "      <td>0</td>\n",
       "      <td>NaN</td>\n",
       "      <td>NaN</td>\n",
       "      <td>NaN</td>\n",
       "      <td>Air transport</td>\n",
       "      <td>Aircrafts</td>\n",
       "    </tr>\n",
       "    <tr>\n",
       "      <th>1</th>\n",
       "      <td>DE_200110</td>\n",
       "      <td>201</td>\n",
       "      <td>10</td>\n",
       "      <td>Aircraft operator activities</td>\n",
       "      <td>51</td>\n",
       "      <td>Air transport</td>\n",
       "      <td>2006</td>\n",
       "      <td>NaN</td>\n",
       "      <td>NaN</td>\n",
       "      <td>0</td>\n",
       "      <td>NaN</td>\n",
       "      <td>NaN</td>\n",
       "      <td>NaN</td>\n",
       "      <td>Air transport</td>\n",
       "      <td>Aircrafts</td>\n",
       "    </tr>\n",
       "    <tr>\n",
       "      <th>2</th>\n",
       "      <td>DE_200022</td>\n",
       "      <td>1776</td>\n",
       "      <td>10</td>\n",
       "      <td>Aircraft operator activities</td>\n",
       "      <td>51</td>\n",
       "      <td>Air transport</td>\n",
       "      <td>2005</td>\n",
       "      <td>NaN</td>\n",
       "      <td>NaN</td>\n",
       "      <td>0</td>\n",
       "      <td>NaN</td>\n",
       "      <td>NaN</td>\n",
       "      <td>NaN</td>\n",
       "      <td>Air transport</td>\n",
       "      <td>Aircrafts</td>\n",
       "    </tr>\n",
       "    <tr>\n",
       "      <th>3</th>\n",
       "      <td>DE_200060</td>\n",
       "      <td>21912</td>\n",
       "      <td>10</td>\n",
       "      <td>Aircraft operator activities</td>\n",
       "      <td>51</td>\n",
       "      <td>Air transport</td>\n",
       "      <td>2005</td>\n",
       "      <td>NaN</td>\n",
       "      <td>NaN</td>\n",
       "      <td>0</td>\n",
       "      <td>NaN</td>\n",
       "      <td>NaN</td>\n",
       "      <td>NaN</td>\n",
       "      <td>Air transport</td>\n",
       "      <td>Aircrafts</td>\n",
       "    </tr>\n",
       "    <tr>\n",
       "      <th>4</th>\n",
       "      <td>DE_200110</td>\n",
       "      <td>201</td>\n",
       "      <td>10</td>\n",
       "      <td>Aircraft operator activities</td>\n",
       "      <td>51</td>\n",
       "      <td>Air transport</td>\n",
       "      <td>2007</td>\n",
       "      <td>NaN</td>\n",
       "      <td>NaN</td>\n",
       "      <td>0</td>\n",
       "      <td>NaN</td>\n",
       "      <td>NaN</td>\n",
       "      <td>NaN</td>\n",
       "      <td>Air transport</td>\n",
       "      <td>Aircrafts</td>\n",
       "    </tr>\n",
       "    <tr>\n",
       "      <th>...</th>\n",
       "      <td>...</td>\n",
       "      <td>...</td>\n",
       "      <td>...</td>\n",
       "      <td>...</td>\n",
       "      <td>...</td>\n",
       "      <td>...</td>\n",
       "      <td>...</td>\n",
       "      <td>...</td>\n",
       "      <td>...</td>\n",
       "      <td>...</td>\n",
       "      <td>...</td>\n",
       "      <td>...</td>\n",
       "      <td>...</td>\n",
       "      <td>...</td>\n",
       "      <td>...</td>\n",
       "    </tr>\n",
       "    <tr>\n",
       "      <th>76410</th>\n",
       "      <td>DE_1707</td>\n",
       "      <td>SWR HKW Merzdorf</td>\n",
       "      <td>20</td>\n",
       "      <td>Combustion of fuels</td>\n",
       "      <td>35.3</td>\n",
       "      <td>Steam and air conditioning supply</td>\n",
       "      <td>2026</td>\n",
       "      <td>NaN</td>\n",
       "      <td>NaN</td>\n",
       "      <td>0</td>\n",
       "      <td>NaN</td>\n",
       "      <td>NaN</td>\n",
       "      <td>NaN</td>\n",
       "      <td>Energy: Steam and air conditioning supply</td>\n",
       "      <td>Combustion</td>\n",
       "    </tr>\n",
       "    <tr>\n",
       "      <th>76411</th>\n",
       "      <td>DE_1707</td>\n",
       "      <td>SWR HKW Merzdorf</td>\n",
       "      <td>20</td>\n",
       "      <td>Combustion of fuels</td>\n",
       "      <td>35.3</td>\n",
       "      <td>Steam and air conditioning supply</td>\n",
       "      <td>2027</td>\n",
       "      <td>NaN</td>\n",
       "      <td>NaN</td>\n",
       "      <td>0</td>\n",
       "      <td>NaN</td>\n",
       "      <td>NaN</td>\n",
       "      <td>NaN</td>\n",
       "      <td>Energy: Steam and air conditioning supply</td>\n",
       "      <td>Combustion</td>\n",
       "    </tr>\n",
       "    <tr>\n",
       "      <th>76412</th>\n",
       "      <td>DE_1707</td>\n",
       "      <td>SWR HKW Merzdorf</td>\n",
       "      <td>20</td>\n",
       "      <td>Combustion of fuels</td>\n",
       "      <td>35.3</td>\n",
       "      <td>Steam and air conditioning supply</td>\n",
       "      <td>2028</td>\n",
       "      <td>NaN</td>\n",
       "      <td>NaN</td>\n",
       "      <td>0</td>\n",
       "      <td>NaN</td>\n",
       "      <td>NaN</td>\n",
       "      <td>NaN</td>\n",
       "      <td>Energy: Steam and air conditioning supply</td>\n",
       "      <td>Combustion</td>\n",
       "    </tr>\n",
       "    <tr>\n",
       "      <th>76413</th>\n",
       "      <td>DE_1707</td>\n",
       "      <td>SWR HKW Merzdorf</td>\n",
       "      <td>20</td>\n",
       "      <td>Combustion of fuels</td>\n",
       "      <td>35.3</td>\n",
       "      <td>Steam and air conditioning supply</td>\n",
       "      <td>2029</td>\n",
       "      <td>NaN</td>\n",
       "      <td>NaN</td>\n",
       "      <td>0</td>\n",
       "      <td>NaN</td>\n",
       "      <td>NaN</td>\n",
       "      <td>NaN</td>\n",
       "      <td>Energy: Steam and air conditioning supply</td>\n",
       "      <td>Combustion</td>\n",
       "    </tr>\n",
       "    <tr>\n",
       "      <th>76414</th>\n",
       "      <td>DE_1707</td>\n",
       "      <td>SWR HKW Merzdorf</td>\n",
       "      <td>20</td>\n",
       "      <td>Combustion of fuels</td>\n",
       "      <td>35.3</td>\n",
       "      <td>Steam and air conditioning supply</td>\n",
       "      <td>2030</td>\n",
       "      <td>NaN</td>\n",
       "      <td>NaN</td>\n",
       "      <td>0</td>\n",
       "      <td>NaN</td>\n",
       "      <td>NaN</td>\n",
       "      <td>NaN</td>\n",
       "      <td>Energy: Steam and air conditioning supply</td>\n",
       "      <td>Combustion</td>\n",
       "    </tr>\n",
       "  </tbody>\n",
       "</table>\n",
       "<p>76415 rows × 15 columns</p>\n",
       "</div>"
      ],
      "text/plain": [
       "      installation_id installation_name  activity_id  \\\n",
       "0           DE_200110               201           10   \n",
       "1           DE_200110               201           10   \n",
       "2           DE_200022              1776           10   \n",
       "3           DE_200060             21912           10   \n",
       "4           DE_200110               201           10   \n",
       "...               ...               ...          ...   \n",
       "76410         DE_1707  SWR HKW Merzdorf           20   \n",
       "76411         DE_1707  SWR HKW Merzdorf           20   \n",
       "76412         DE_1707  SWR HKW Merzdorf           20   \n",
       "76413         DE_1707  SWR HKW Merzdorf           20   \n",
       "76414         DE_1707  SWR HKW Merzdorf           20   \n",
       "\n",
       "                           activity nace_id  \\\n",
       "0      Aircraft operator activities      51   \n",
       "1      Aircraft operator activities      51   \n",
       "2      Aircraft operator activities      51   \n",
       "3      Aircraft operator activities      51   \n",
       "4      Aircraft operator activities      51   \n",
       "...                             ...     ...   \n",
       "76410           Combustion of fuels    35.3   \n",
       "76411           Combustion of fuels    35.3   \n",
       "76412           Combustion of fuels    35.3   \n",
       "76413           Combustion of fuels    35.3   \n",
       "76414           Combustion of fuels    35.3   \n",
       "\n",
       "                                    nace  year  surrendered  verified  \\\n",
       "0                          Air transport  2005          NaN       NaN   \n",
       "1                          Air transport  2006          NaN       NaN   \n",
       "2                          Air transport  2005          NaN       NaN   \n",
       "3                          Air transport  2005          NaN       NaN   \n",
       "4                          Air transport  2007          NaN       NaN   \n",
       "...                                  ...   ...          ...       ...   \n",
       "76410  Steam and air conditioning supply  2026          NaN       NaN   \n",
       "76411  Steam and air conditioning supply  2027          NaN       NaN   \n",
       "76412  Steam and air conditioning supply  2028          NaN       NaN   \n",
       "76413  Steam and air conditioning supply  2029          NaN       NaN   \n",
       "76414  Steam and air conditioning supply  2030          NaN       NaN   \n",
       "\n",
       "       allocatedTotal  allocatedFree  allocated10c  allocatedNewEntrance  \\\n",
       "0                   0            NaN           NaN                   NaN   \n",
       "1                   0            NaN           NaN                   NaN   \n",
       "2                   0            NaN           NaN                   NaN   \n",
       "3                   0            NaN           NaN                   NaN   \n",
       "4                   0            NaN           NaN                   NaN   \n",
       "...               ...            ...           ...                   ...   \n",
       "76410               0            NaN           NaN                   NaN   \n",
       "76411               0            NaN           NaN                   NaN   \n",
       "76412               0            NaN           NaN                   NaN   \n",
       "76413               0            NaN           NaN                   NaN   \n",
       "76414               0            NaN           NaN                   NaN   \n",
       "\n",
       "                                   nace_category activity_category  \n",
       "0                                  Air transport         Aircrafts  \n",
       "1                                  Air transport         Aircrafts  \n",
       "2                                  Air transport         Aircrafts  \n",
       "3                                  Air transport         Aircrafts  \n",
       "4                                  Air transport         Aircrafts  \n",
       "...                                          ...               ...  \n",
       "76410  Energy: Steam and air conditioning supply        Combustion  \n",
       "76411  Energy: Steam and air conditioning supply        Combustion  \n",
       "76412  Energy: Steam and air conditioning supply        Combustion  \n",
       "76413  Energy: Steam and air conditioning supply        Combustion  \n",
       "76414  Energy: Steam and air conditioning supply        Combustion  \n",
       "\n",
       "[76415 rows x 15 columns]"
      ]
     },
     "execution_count": 31,
     "metadata": {},
     "output_type": "execute_result"
    }
   ],
   "source": [
    "id_inst_esd = f\"{id_reg}_esd\"\n",
    "df_comp_esd = df_comp[df_comp.installation_id == id_inst_esd].copy()\n",
    "df_comp_euets = df_comp[df_comp.installation_id != id_inst_esd].copy()\n",
    "df_comp_euets"
   ]
  },
  {
   "cell_type": "markdown",
   "metadata": {},
   "source": [
    "The frame allows to easily aggregate compliance data by the respective dimension. As an example, plot verified emissions by NACE category over time:"
   ]
  },
  {
   "cell_type": "code",
   "execution_count": 33,
   "metadata": {
    "code_folding": []
   },
   "outputs": [
    {
     "data": {
      "text/plain": [
       "<matplotlib.legend.Legend at 0x1896e7fc850>"
      ]
     },
     "execution_count": 33,
     "metadata": {},
     "output_type": "execute_result"
    },
    {
     "data": {
      "image/png": "[encoded data removed]",
      "text/plain": [
       "<Figure size 864x432 with 1 Axes>"
      ]
     },
     "metadata": {
      "needs_background": "light"
     },
     "output_type": "display_data"
    }
   ],
   "source": [
    "ax = ( df_comp_euets.query(\"year < 2023\").groupby([\"year\", \"nace_category\"], as_index=False)\n",
    "        .verified.sum()\n",
    "        .pivot_table(\"verified\", \"year\", \"nace_category\", dropna=False).div(1000000)\n",
    "        .plot(kind=\"bar\", stacked=True,  figsize=(12,6), ylabel=r\"Million tCO$_2$\", grid=True))\n",
    "ax.legend(bbox_to_anchor=(0.9, -0.2), loc=0, ncol=2)"
   ]
  },
  {
   "cell_type": "markdown",
   "metadata": {},
   "source": [
    "Likewise, by activity category:"
   ]
  },
  {
   "cell_type": "code",
   "execution_count": 34,
   "metadata": {},
   "outputs": [
    {
     "data": {
      "text/plain": [
       "<matplotlib.legend.Legend at 0x1896e7e7580>"
      ]
     },
     "execution_count": 34,
     "metadata": {},
     "output_type": "execute_result"
    },
    {
     "data": {
      "image/png": "[encoded data removed]",
      "text/plain": [
       "<Figure size 864x432 with 1 Axes>"
      ]
     },
     "metadata": {
      "needs_background": "light"
     },
     "output_type": "display_data"
    }
   ],
   "source": [
    "ax = df_comp_euets.query(\"year < 2023\").groupby([\"year\", \"activity_category\"], as_index=False)\\\n",
    "        .verified.sum()\\\n",
    "        .pivot_table(\"verified\", \"year\", \"activity_category\", dropna=False).div(1000000)\\\n",
    "        .plot(kind=\"bar\", stacked=True,  figsize=(12,6), ylabel=r\"Million tCO$_2$\", grid=True)\n",
    "ax.legend(bbox_to_anchor=(1, -0.2), loc=0, ncol=6)"
   ]
  },
  {
   "cell_type": "markdown",
   "metadata": {},
   "source": [
    "For the effort sharing system we have only one installation and can directly plot emissions together with allocated and surrendered Assigned Amount Units (AAU)"
   ]
  },
  {
   "cell_type": "code",
   "execution_count": 45,
   "metadata": {},
   "outputs": [
    {
     "data": {
      "image/png": "[encoded data removed]",
      "text/plain": [
       "<Figure size 864x432 with 1 Axes>"
      ]
     },
     "metadata": {
      "needs_background": "light"
     },
     "output_type": "display_data"
    }
   ],
   "source": [
    "ax = ( (df_comp_esd.query(\"year < 2021\")\n",
    "        .set_index(\"year\")\n",
    "        [[\"allocatedTotal\", \"verified\", \"surrendered\"]]/1000000)\n",
    "        .plot(kind=\"bar\", stacked=False,  figsize=(12,6), ylabel=r\"Million tCO$_2$\", grid=True)\n",
    "     )"
   ]
  },
  {
   "cell_type": "code",
   "execution_count": 46,
   "metadata": {},
   "outputs": [
    {
     "data": {
      "text/html": [
       "<div>\n",
       "<style scoped>\n",
       "    .dataframe tbody tr th:only-of-type {\n",
       "        vertical-align: middle;\n",
       "    }\n",
       "\n",
       "    .dataframe tbody tr th {\n",
       "        vertical-align: top;\n",
       "    }\n",
       "\n",
       "    .dataframe thead th {\n",
       "        text-align: right;\n",
       "    }\n",
       "</style>\n",
       "<table border=\"1\" class=\"dataframe\">\n",
       "  <thead>\n",
       "    <tr style=\"text-align: right;\">\n",
       "      <th></th>\n",
       "      <th>installation_id</th>\n",
       "      <th>installation_name</th>\n",
       "      <th>activity_id</th>\n",
       "      <th>activity</th>\n",
       "      <th>nace_id</th>\n",
       "      <th>nace</th>\n",
       "      <th>surrendered</th>\n",
       "      <th>verified</th>\n",
       "      <th>allocatedTotal</th>\n",
       "      <th>allocatedFree</th>\n",
       "      <th>allocated10c</th>\n",
       "      <th>allocatedNewEntrance</th>\n",
       "      <th>nace_category</th>\n",
       "      <th>activity_category</th>\n",
       "    </tr>\n",
       "    <tr>\n",
       "      <th>year</th>\n",
       "      <th></th>\n",
       "      <th></th>\n",
       "      <th></th>\n",
       "      <th></th>\n",
       "      <th></th>\n",
       "      <th></th>\n",
       "      <th></th>\n",
       "      <th></th>\n",
       "      <th></th>\n",
       "      <th></th>\n",
       "      <th></th>\n",
       "      <th></th>\n",
       "      <th></th>\n",
       "      <th></th>\n",
       "    </tr>\n",
       "  </thead>\n",
       "  <tbody>\n",
       "    <tr>\n",
       "      <th>2013</th>\n",
       "      <td>DE_esd</td>\n",
       "      <td>Effort Sharing Installation: Germany</td>\n",
       "      <td>1000</td>\n",
       "      <td>EU Effort Sharing</td>\n",
       "      <td>None</td>\n",
       "      <td>None</td>\n",
       "      <td>472527651.0</td>\n",
       "      <td>460204908.0</td>\n",
       "      <td>472527651</td>\n",
       "      <td>NaN</td>\n",
       "      <td>NaN</td>\n",
       "      <td>NaN</td>\n",
       "      <td>not provided</td>\n",
       "      <td>not provided</td>\n",
       "    </tr>\n",
       "    <tr>\n",
       "      <th>2014</th>\n",
       "      <td>DE_esd</td>\n",
       "      <td>Effort Sharing Installation: Germany</td>\n",
       "      <td>1000</td>\n",
       "      <td>EU Effort Sharing</td>\n",
       "      <td>None</td>\n",
       "      <td>None</td>\n",
       "      <td>436790185.0</td>\n",
       "      <td>436790185.0</td>\n",
       "      <td>465830461</td>\n",
       "      <td>NaN</td>\n",
       "      <td>NaN</td>\n",
       "      <td>NaN</td>\n",
       "      <td>not provided</td>\n",
       "      <td>not provided</td>\n",
       "    </tr>\n",
       "    <tr>\n",
       "      <th>2015</th>\n",
       "      <td>DE_esd</td>\n",
       "      <td>Effort Sharing Installation: Germany</td>\n",
       "      <td>1000</td>\n",
       "      <td>EU Effort Sharing</td>\n",
       "      <td>None</td>\n",
       "      <td>None</td>\n",
       "      <td>500496290.0</td>\n",
       "      <td>444080615.0</td>\n",
       "      <td>459133271</td>\n",
       "      <td>NaN</td>\n",
       "      <td>NaN</td>\n",
       "      <td>NaN</td>\n",
       "      <td>not provided</td>\n",
       "      <td>not provided</td>\n",
       "    </tr>\n",
       "    <tr>\n",
       "      <th>2016</th>\n",
       "      <td>DE_esd</td>\n",
       "      <td>Effort Sharing Installation: Germany</td>\n",
       "      <td>1000</td>\n",
       "      <td>EU Effort Sharing</td>\n",
       "      <td>None</td>\n",
       "      <td>None</td>\n",
       "      <td>454157411.0</td>\n",
       "      <td>454157411.0</td>\n",
       "      <td>452436081</td>\n",
       "      <td>NaN</td>\n",
       "      <td>NaN</td>\n",
       "      <td>NaN</td>\n",
       "      <td>not provided</td>\n",
       "      <td>not provided</td>\n",
       "    </tr>\n",
       "    <tr>\n",
       "      <th>2017</th>\n",
       "      <td>DE_esd</td>\n",
       "      <td>Effort Sharing Installation: Germany</td>\n",
       "      <td>1000</td>\n",
       "      <td>EU Effort Sharing</td>\n",
       "      <td>None</td>\n",
       "      <td>None</td>\n",
       "      <td>466857281.0</td>\n",
       "      <td>466857281.0</td>\n",
       "      <td>432348857</td>\n",
       "      <td>NaN</td>\n",
       "      <td>NaN</td>\n",
       "      <td>NaN</td>\n",
       "      <td>not provided</td>\n",
       "      <td>not provided</td>\n",
       "    </tr>\n",
       "    <tr>\n",
       "      <th>2018</th>\n",
       "      <td>DE_esd</td>\n",
       "      <td>Effort Sharing Installation: Germany</td>\n",
       "      <td>1000</td>\n",
       "      <td>EU Effort Sharing</td>\n",
       "      <td>None</td>\n",
       "      <td>None</td>\n",
       "      <td>434047773.0</td>\n",
       "      <td>434047773.0</td>\n",
       "      <td>425202158</td>\n",
       "      <td>NaN</td>\n",
       "      <td>NaN</td>\n",
       "      <td>NaN</td>\n",
       "      <td>not provided</td>\n",
       "      <td>not provided</td>\n",
       "    </tr>\n",
       "    <tr>\n",
       "      <th>2019</th>\n",
       "      <td>DE_esd</td>\n",
       "      <td>Effort Sharing Installation: Germany</td>\n",
       "      <td>1000</td>\n",
       "      <td>EU Effort Sharing</td>\n",
       "      <td>None</td>\n",
       "      <td>None</td>\n",
       "      <td>444262722.0</td>\n",
       "      <td>444262722.0</td>\n",
       "      <td>418055459</td>\n",
       "      <td>NaN</td>\n",
       "      <td>NaN</td>\n",
       "      <td>NaN</td>\n",
       "      <td>not provided</td>\n",
       "      <td>not provided</td>\n",
       "    </tr>\n",
       "    <tr>\n",
       "      <th>2020</th>\n",
       "      <td>DE_esd</td>\n",
       "      <td>Effort Sharing Installation: Germany</td>\n",
       "      <td>1000</td>\n",
       "      <td>EU Effort Sharing</td>\n",
       "      <td>None</td>\n",
       "      <td>None</td>\n",
       "      <td>407410808.0</td>\n",
       "      <td>407410808.0</td>\n",
       "      <td>410908761</td>\n",
       "      <td>NaN</td>\n",
       "      <td>NaN</td>\n",
       "      <td>NaN</td>\n",
       "      <td>not provided</td>\n",
       "      <td>not provided</td>\n",
       "    </tr>\n",
       "  </tbody>\n",
       "</table>\n",
       "</div>"
      ],
      "text/plain": [
       "     installation_id                     installation_name  activity_id  \\\n",
       "year                                                                      \n",
       "2013          DE_esd  Effort Sharing Installation: Germany         1000   \n",
       "2014          DE_esd  Effort Sharing Installation: Germany         1000   \n",
       "2015          DE_esd  Effort Sharing Installation: Germany         1000   \n",
       "2016          DE_esd  Effort Sharing Installation: Germany         1000   \n",
       "2017          DE_esd  Effort Sharing Installation: Germany         1000   \n",
       "2018          DE_esd  Effort Sharing Installation: Germany         1000   \n",
       "2019          DE_esd  Effort Sharing Installation: Germany         1000   \n",
       "2020          DE_esd  Effort Sharing Installation: Germany         1000   \n",
       "\n",
       "               activity nace_id  nace  surrendered     verified  \\\n",
       "year                                                              \n",
       "2013  EU Effort Sharing    None  None  472527651.0  460204908.0   \n",
       "2014  EU Effort Sharing    None  None  436790185.0  436790185.0   \n",
       "2015  EU Effort Sharing    None  None  500496290.0  444080615.0   \n",
       "2016  EU Effort Sharing    None  None  454157411.0  454157411.0   \n",
       "2017  EU Effort Sharing    None  None  466857281.0  466857281.0   \n",
       "2018  EU Effort Sharing    None  None  434047773.0  434047773.0   \n",
       "2019  EU Effort Sharing    None  None  444262722.0  444262722.0   \n",
       "2020  EU Effort Sharing    None  None  407410808.0  407410808.0   \n",
       "\n",
       "      allocatedTotal  allocatedFree  allocated10c  allocatedNewEntrance  \\\n",
       "year                                                                      \n",
       "2013       472527651            NaN           NaN                   NaN   \n",
       "2014       465830461            NaN           NaN                   NaN   \n",
       "2015       459133271            NaN           NaN                   NaN   \n",
       "2016       452436081            NaN           NaN                   NaN   \n",
       "2017       432348857            NaN           NaN                   NaN   \n",
       "2018       425202158            NaN           NaN                   NaN   \n",
       "2019       418055459            NaN           NaN                   NaN   \n",
       "2020       410908761            NaN           NaN                   NaN   \n",
       "\n",
       "     nace_category activity_category  \n",
       "year                                  \n",
       "2013  not provided      not provided  \n",
       "2014  not provided      not provided  \n",
       "2015  not provided      not provided  \n",
       "2016  not provided      not provided  \n",
       "2017  not provided      not provided  \n",
       "2018  not provided      not provided  \n",
       "2019  not provided      not provided  \n",
       "2020  not provided      not provided  "
      ]
     },
     "execution_count": 46,
     "metadata": {},
     "output_type": "execute_result"
    }
   ],
   "source": [
    "df_comp_esd.query(\"year < 2021\").set_index(\"year\")"
   ]
  },
  {
   "cell_type": "code",
   "execution_count": null,
   "metadata": {},
   "outputs": [],
   "source": []
  },
  {
   "cell_type": "code",
   "execution_count": null,
   "metadata": {},
   "outputs": [],
   "source": []
  }
 ],
 "metadata": {
  "kernelspec": {
   "display_name": "Python [conda env:py38_eutl]",
   "language": "python",
   "name": "conda-env-py38_eutl-py"
  },
  "language_info": {
   "codemirror_mode": {
    "name": "ipython",
    "version": 3
   },
   "file_extension": ".py",
   "mimetype": "text/x-python",
   "name": "python",
   "nbconvert_exporter": "python",
   "pygments_lexer": "ipython3",
   "version": "3.8.5"
  },
  "toc": {
   "base_numbering": 1,
   "nav_menu": {},
   "number_sections": true,
   "sideBar": true,
   "skip_h1_title": false,
   "title_cell": "Table of Contents",
   "title_sidebar": "Contents",
   "toc_cell": false,
   "toc_position": {},
   "toc_section_display": true,
   "toc_window_display": false
  },
  "varInspector": {
   "cols": {
    "lenName": 16,
    "lenType": 16,
    "lenVar": 40
   },
   "kernels_config": {
    "python": {
     "delete_cmd_postfix": "",
     "delete_cmd_prefix": "del ",
     "library": "var_list.py",
     "varRefreshCmd": "print(var_dic_list())"
    },
    "r": {
     "delete_cmd_postfix": ") ",
     "delete_cmd_prefix": "rm(",
     "library": "var_list.r",
     "varRefreshCmd": "cat(var_dic_list()) "
    }
   },
   "types_to_exclude": [
    "module",
    "function",
    "builtin_function_or_method",
    "instance",
    "_Feature"
   ],
   "window_display": false
  }
 },
 "nbformat": 4,
 "nbformat_minor": 4
}
