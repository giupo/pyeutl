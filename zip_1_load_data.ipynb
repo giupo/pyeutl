{
 "cells": [
  {
   "cell_type": "markdown",
   "metadata": {},
   "source": [
    "# Introduction"
   ]
  },
  {
   "cell_type": "markdown",
   "metadata": {},
   "source": [
    "Provided the data downloaded from www.euets.info as zip file, we extract the data using the *ziploader* sub-module:"
   ]
  },
  {
   "cell_type": "markdown",
   "metadata": {},
   "source": [
    "# Packages and options"
   ]
  },
  {
   "cell_type": "code",
   "execution_count": 11,
   "metadata": {},
   "outputs": [],
   "source": [
    "import pandas as pd\n",
    "import matplotlib as mpl\n",
    "import matplotlib.pyplot as plt\n",
    "from pyeutl.ziploader import (get_installations, get_accounts, get_transactions) "
   ]
  },
  {
   "cell_type": "code",
   "execution_count": 12,
   "metadata": {},
   "outputs": [],
   "source": [
    "fn_zip = \"./eutl.zip\""
   ]
  },
  {
   "cell_type": "markdown",
   "metadata": {},
   "source": [
    "# Get Data"
   ]
  },
  {
   "cell_type": "markdown",
   "metadata": {},
   "source": [
    "Get installation data from zip file. The function merges information from lookup tables into the installation table:"
   ]
  },
  {
   "cell_type": "code",
   "execution_count": 5,
   "metadata": {},
   "outputs": [
    {
     "name": "stdout",
     "output_type": "stream",
     "text": [
      "<class 'pandas.core.frame.DataFrame'>\n",
      "RangeIndex: 17644 entries, 0 to 17643\n",
      "Data columns (total 31 columns):\n",
      " #   Column               Non-Null Count  Dtype  \n",
      "---  ------               --------------  -----  \n",
      " 0   id                   17644 non-null  object \n",
      " 1   name                 16057 non-null  object \n",
      " 2   registry_id          17644 non-null  object \n",
      " 3   activity_id          17644 non-null  int64  \n",
      " 4   eprtrID              5366 non-null   object \n",
      " 5   parentCompany        6178 non-null   object \n",
      " 6   subsidiaryCompany    3562 non-null   object \n",
      " 7   permitID             16057 non-null  object \n",
      " 8   designatorICAO       603 non-null    object \n",
      " 9   monitoringID         1587 non-null   object \n",
      " 10  monitoringExpiry     0 non-null      float64\n",
      " 11  monitoringFirstYear  1586 non-null   object \n",
      " 12  permitDateExpiry     4488 non-null   object \n",
      " 13  isAircraftOperator   17644 non-null  bool   \n",
      " 14  ec748_2009Code       1587 non-null   object \n",
      " 15  permitDateEntry      16047 non-null  object \n",
      " 16  addressMain          17644 non-null  object \n",
      " 17  addressSecondary     4079 non-null   object \n",
      " 18  postalCode           17641 non-null  object \n",
      " 19  city                 17641 non-null  object \n",
      " 20  country_id           17644 non-null  object \n",
      " 21  latitudeGoogle       15939 non-null  float64\n",
      " 22  longitudeGoogle      15939 non-null  float64\n",
      " 23  nace_id              15062 non-null  float64\n",
      " 24  entitlement          14088 non-null  float64\n",
      " 25  activity             17644 non-null  object \n",
      " 26  activityCategory     17644 non-null  object \n",
      " 27  registry             17644 non-null  object \n",
      " 28  country              17644 non-null  object \n",
      " 29  nace                 15062 non-null  object \n",
      " 30  naceCategory         15062 non-null  object \n",
      "dtypes: bool(1), float64(5), int64(1), object(24)\n",
      "memory usage: 4.1+ MB\n"
     ]
    }
   ],
   "source": [
    "df_inst = get_installations(fn_zip, )\n",
    "df_inst.info()"
   ]
  },
  {
   "cell_type": "markdown",
   "metadata": {},
   "source": [
    "Next, load the account data. The account dataframe includes the information of related look-up tables. If a dataframe with installation information is passed to the function, the installation information is also merged into the account table:"
   ]
  },
  {
   "cell_type": "code",
   "execution_count": 6,
   "metadata": {},
   "outputs": [
    {
     "name": "stdout",
     "output_type": "stream",
     "text": [
      "<class 'pandas.core.frame.DataFrame'>\n",
      "Int64Index: 42007 entries, 0 to 42006\n",
      "Data columns (total 22 columns):\n",
      " #   Column                     Non-Null Count  Dtype  \n",
      "---  ------                     --------------  -----  \n",
      " 0   id                         42007 non-null  int64  \n",
      " 1   name                       41310 non-null  object \n",
      " 2   registry_id                41290 non-null  object \n",
      " 3   accountHolder_id           41284 non-null  float64\n",
      " 4   accountType_id             41283 non-null  object \n",
      " 5   isOpen                     41310 non-null  object \n",
      " 6   openingDate                41254 non-null  object \n",
      " 7   closingDate                24498 non-null  object \n",
      " 8   commitmentPeriod           19192 non-null  object \n",
      " 9   companyRegistrationNumber  36967 non-null  object \n",
      " 10  isRegisteredEutl           42007 non-null  bool   \n",
      " 11  installation_id            30501 non-null  object \n",
      " 12  registry                   42007 non-null  object \n",
      " 13  accountType                41283 non-null  object \n",
      " 14  accountCategory            41283 non-null  object \n",
      " 15  installationName           28911 non-null  object \n",
      " 16  activity_id                30501 non-null  float64\n",
      " 17  activity                   30501 non-null  object \n",
      " 18  activityCategory           30501 non-null  object \n",
      " 19  nace_id                    27662 non-null  float64\n",
      " 20  nace                       27662 non-null  object \n",
      " 21  naceCategory               27662 non-null  object \n",
      "dtypes: bool(1), float64(3), int64(1), object(17)\n",
      "memory usage: 7.1+ MB\n"
     ]
    }
   ],
   "source": [
    "df_acc = get_accounts(fn_zip, \n",
    "                          df_installation=df_inst[[\"id\", \"name\", \"activity_id\", \"activity\", \"activityCategory\", \n",
    "                                                   \"nace_id\", \"nace\", \"naceCategory\"]]) \n",
    "df_acc.info()"
   ]
  },
  {
   "cell_type": "markdown",
   "metadata": {},
   "source": [
    "Transactions follow the same logic also providing the descriptions provided in the look-up tables. In addition, we can pass a table with account information. The transaction loader also allows to resample the transaction data to a higher frequency: "
   ]
  },
  {
   "cell_type": "code",
   "execution_count": 8,
   "metadata": {},
   "outputs": [
    {
     "name": "stdout",
     "output_type": "stream",
     "text": [
      "<class 'pandas.core.frame.DataFrame'>\n",
      "Int64Index: 6068105 entries, 0 to 6068104\n",
      "Data columns (total 42 columns):\n",
      " #   Column                           Dtype         \n",
      "---  ------                           -----         \n",
      " 0   date                             datetime64[ns]\n",
      " 1   id                               int64         \n",
      " 2   transactionID                    object        \n",
      " 3   transactionTypeMain_id           int64         \n",
      " 4   transactionTypeSupplementary_id  int64         \n",
      " 5   transferringAccount_id           float64       \n",
      " 6   acquiringAccount_id              float64       \n",
      " 7   unitType_id                      object        \n",
      " 8   amount                           int64         \n",
      " 9   transactionTypeMain              object        \n",
      " 10  transactionTypeSupplementary     object        \n",
      " 11  unitType                         object        \n",
      " 12  transferringName                 object        \n",
      " 13  transferringRegistry_id          object        \n",
      " 14  transferringAccountHolder_id     float64       \n",
      " 15  transferringAccountType_id       object        \n",
      " 16  transferringIsRegisteredEutl     bool          \n",
      " 17  transferringInstallation_id      object        \n",
      " 18  transferringRegistry             object        \n",
      " 19  transferringAccountType          object        \n",
      " 20  transferringAccountCategory      object        \n",
      " 21  transferringInstallationName     object        \n",
      " 22  transferringActivity_id          float64       \n",
      " 23  transferringActivity             object        \n",
      " 24  transferringNace_id              float64       \n",
      " 25  transferringNace                 object        \n",
      " 26  transferringNaceCategory         object        \n",
      " 27  acquiringName                    object        \n",
      " 28  acquiringRegistry_id             object        \n",
      " 29  acquiringAccountHolder_id        float64       \n",
      " 30  acquiringAccountType_id          object        \n",
      " 31  acquiringIsRegisteredEutl        bool          \n",
      " 32  acquiringInstallation_id         object        \n",
      " 33  acquiringRegistry                object        \n",
      " 34  acquiringAccountType             object        \n",
      " 35  acquiringAccountCategory         object        \n",
      " 36  acquiringInstallationName        object        \n",
      " 37  acquiringActivity_id             float64       \n",
      " 38  acquiringActivity                object        \n",
      " 39  acquiringNace_id                 float64       \n",
      " 40  acquiringNace                    object        \n",
      " 41  acquiringNaceCategory            object        \n",
      "dtypes: bool(2), datetime64[ns](1), float64(8), int64(4), object(27)\n",
      "memory usage: 1.9+ GB\n"
     ]
    }
   ],
   "source": [
    "freq = \"M\"\n",
    "# get transactions merged with account information\n",
    "cols = ['id', 'name', 'registry_id', 'accountHolder_id', 'accountType_id',\n",
    "        'isRegisteredEutl', 'installation_id', 'registry', 'accountType', \n",
    "        'accountCategory', 'installationName', 'activity_id', 'activity', \n",
    "        'nace_id', 'nace', \"naceCategory\" ]\n",
    "df_trans = get_transactions(fn_zip, drop=[\"project_id\"], freq=freq, \n",
    "                      df_account=df_acc[cols])\n",
    "df_trans.info()"
   ]
  },
  {
   "cell_type": "markdown",
   "metadata": {},
   "source": [
    "We can wrap all of this into a single function, e.g.:"
   ]
  },
  {
   "cell_type": "code",
   "execution_count": 10,
   "metadata": {
    "code_folding": []
   },
   "outputs": [],
   "source": [
    "def load_data(fn_zip, freq=\"D\"):\n",
    "    \"\"\"Load installation account and transaction data from zip file\n",
    "    :param fn_zip: <string> name of zip file with eutl data\n",
    "    :param freq: <string> frequency for resampling of transaction data\"\"\"\n",
    "    # get installations\n",
    "    df_inst = get_installations(fn_zip)\n",
    "    # get accounts with selected installation information\n",
    "    df_acc = get_accounts(fn_zip, \n",
    "                          df_installation=df_inst[[\"id\", \"name\", \"activity_id\", \"activity\", \"activityCategory\", \n",
    "                                                   \"nace_id\", \"nace\", \"naceCategory\"]]) \n",
    "    # get transactions merged with account information\n",
    "    cols = ['id', 'name', 'registry_id', 'accountHolder_id', 'accountType_id',\n",
    "            'isRegisteredEutl', 'installation_id', 'registry', 'accountType', \n",
    "            'accountCategory', 'installationName', 'activity_id', 'activity', \n",
    "            'nace_id', 'nace', \"naceCategory\" ]\n",
    "    df_trans = get_transactions(fn_zip, drop=[\"project_id\"], freq=freq, \n",
    "                          df_account=df_acc[cols])\n",
    "    return df_inst, df_acc, df_trans\n",
    "\n",
    "#df_inst, df_acc, df_trans = load_data(fn_zip, freq=\"M\")"
   ]
  },
  {
   "cell_type": "code",
   "execution_count": null,
   "metadata": {},
   "outputs": [],
   "source": []
  }
 ],
 "metadata": {
  "kernelspec": {
   "display_name": "Python [conda env:py38_eutl]",
   "language": "python",
   "name": "conda-env-py38_eutl-py"
  },
  "language_info": {
   "codemirror_mode": {
    "name": "ipython",
    "version": 3
   },
   "file_extension": ".py",
   "mimetype": "text/x-python",
   "name": "python",
   "nbconvert_exporter": "python",
   "pygments_lexer": "ipython3",
   "version": "3.8.5"
  },
  "toc": {
   "base_numbering": 1,
   "nav_menu": {},
   "number_sections": true,
   "sideBar": true,
   "skip_h1_title": false,
   "title_cell": "Table of Contents",
   "title_sidebar": "Contents",
   "toc_cell": false,
   "toc_position": {},
   "toc_section_display": true,
   "toc_window_display": false
  },
  "varInspector": {
   "cols": {
    "lenName": 16,
    "lenType": 16,
    "lenVar": 40
   },
   "kernels_config": {
    "python": {
     "delete_cmd_postfix": "",
     "delete_cmd_prefix": "del ",
     "library": "var_list.py",
     "varRefreshCmd": "print(var_dic_list())"
    },
    "r": {
     "delete_cmd_postfix": ") ",
     "delete_cmd_prefix": "rm(",
     "library": "var_list.r",
     "varRefreshCmd": "cat(var_dic_list()) "
    }
   },
   "types_to_exclude": [
    "module",
    "function",
    "builtin_function_or_method",
    "instance",
    "_Feature"
   ],
   "window_display": false
  }
 },
 "nbformat": 4,
 "nbformat_minor": 4
}
