{
 "cells": [
  {
   "cell_type": "markdown",
   "metadata": {},
   "source": [
    "# Introduction"
   ]
  },
  {
   "cell_type": "markdown",
   "metadata": {},
   "source": [
    "The European Transaction Log (EUTL) is the backbone of the European Union Emissions Trading System (EUETS). It implements the transfer of emission allowances between parties active in the EUETS. The EUTL provides data on regulated installations, their emissions as well as transfers of allowances.  \n",
    "\n",
    "Assuming that the database has been successfully populated with the EUTL data (see 1_create_database.ipynb), this notebook illustrates how to analyze compliance and transactions of a single installation.\n",
    "\n",
    "As a starting point, we assume that the installation identifier is known. The most easy way to find the identifier is going to www.EUETS.INFO/installations and use the search field.\n",
    "\n",
    "Specifically, we consider the Niederaussem Power Station with installation identifier DE_1649. To analyze another installation, simply change the assignment determining the installation identifier (but the text most likely no longer fits;).\n",
    "\n",
    "The analysis takes place in three steps:\n",
    "1. Use the installation identifier to get the installation object.\n",
    "2. The installation object provides methods to obtain compliance and surrendering details as well as associated accounts\n",
    "3. Account objects provide methods to assess related transactions."
   ]
  },
  {
   "cell_type": "code",
   "execution_count": 1,
   "metadata": {},
   "outputs": [],
   "source": [
    "id_inst = \"DE_1649\""
   ]
  },
  {
   "cell_type": "markdown",
   "metadata": {},
   "source": [
    "# Packages and options"
   ]
  },
  {
   "cell_type": "code",
   "execution_count": 2,
   "metadata": {},
   "outputs": [],
   "source": [
    "from pyeutl.orm import DataAccessLayer    # data access layer to access the database\n",
    "from pyeutl.orm import Installation       # EUETS Installation object\n",
    "import numpy as np \n",
    "import pandas as pd\n",
    "import matplotlib.pyplot as plt\n",
    "%matplotlib inline"
   ]
  },
  {
   "cell_type": "markdown",
   "metadata": {},
   "source": [
    "Database connection settings"
   ]
  },
  {
   "cell_type": "code",
   "execution_count": 3,
   "metadata": {},
   "outputs": [],
   "source": [
    "connectionSettings = dict(\n",
    "    user=\"eutlAdmin\", \n",
    "    host=\"localhost\", \n",
    "    db=\"eutl_orm\", \n",
    "    passw=\"1234\",\n",
    "    port=5432\n",
    ")"
   ]
  },
  {
   "cell_type": "markdown",
   "metadata": {},
   "source": [
    "# Connect to database"
   ]
  },
  {
   "cell_type": "markdown",
   "metadata": {},
   "source": [
    "Connect to database and get a session:"
   ]
  },
  {
   "cell_type": "code",
   "execution_count": 4,
   "metadata": {},
   "outputs": [],
   "source": [
    "dal = DataAccessLayer(**connectionSettings)\n",
    "session = dal.session"
   ]
  },
  {
   "cell_type": "markdown",
   "metadata": {},
   "source": [
    "# Get installation"
   ]
  },
  {
   "cell_type": "markdown",
   "metadata": {},
   "source": [
    "Given the installation id, use the session to query the installation:"
   ]
  },
  {
   "cell_type": "code",
   "execution_count": 5,
   "metadata": {},
   "outputs": [
    {
     "name": "stdout",
     "output_type": "stream",
     "text": [
      "DE_1649: Kraftwerk Niederaußem\n",
      "Werkstraße\n",
      "50129 Bergheim\n",
      "Germany\n"
     ]
    }
   ],
   "source": [
    "inst = session.query(Installation).get(id_inst)\n",
    "print(inst.id + \": \" + inst.name)\n",
    "print(inst.address)"
   ]
  },
  {
   "cell_type": "markdown",
   "metadata": {},
   "source": [
    "# Analyze compliance"
   ]
  },
  {
   "cell_type": "markdown",
   "metadata": {},
   "source": [
    "Compliance is a property of the installation. For convenience, .get_compliance() provides the compliance as pandas DataFrame. \n",
    "\n",
    "Due to linking with the Swiss Emissions Trading System, compliance might be reported in the Swiss system. Since is the case only for aircraft operators, we simply drop the respective column: "
   ]
  },
  {
   "cell_type": "code",
   "execution_count": 9,
   "metadata": {},
   "outputs": [
    {
     "data": {
      "text/html": [
       "<div>\n",
       "<style scoped>\n",
       "    .dataframe tbody tr th:only-of-type {\n",
       "        vertical-align: middle;\n",
       "    }\n",
       "\n",
       "    .dataframe tbody tr th {\n",
       "        vertical-align: top;\n",
       "    }\n",
       "\n",
       "    .dataframe thead th {\n",
       "        text-align: right;\n",
       "    }\n",
       "</style>\n",
       "<table border=\"1\" class=\"dataframe\">\n",
       "  <thead>\n",
       "    <tr style=\"text-align: right;\">\n",
       "      <th></th>\n",
       "      <th>penalty</th>\n",
       "      <th>surrenderedCummulative</th>\n",
       "      <th>verifiedUpdated</th>\n",
       "      <th>verifiedCummulative</th>\n",
       "      <th>allocated10c</th>\n",
       "      <th>allocatedNewEntrance</th>\n",
       "      <th>compliance_id</th>\n",
       "      <th>installation_id</th>\n",
       "      <th>balance</th>\n",
       "      <th>surrendered</th>\n",
       "      <th>verified</th>\n",
       "      <th>allocatedTotal</th>\n",
       "      <th>allocatedFree</th>\n",
       "      <th>euetsPhase</th>\n",
       "      <th>year</th>\n",
       "      <th>compliance</th>\n",
       "    </tr>\n",
       "  </thead>\n",
       "  <tbody>\n",
       "    <tr>\n",
       "      <th>0</th>\n",
       "      <td>None</td>\n",
       "      <td>29734760.0</td>\n",
       "      <td>True</td>\n",
       "      <td>29734760.0</td>\n",
       "      <td>None</td>\n",
       "      <td>NaN</td>\n",
       "      <td>A</td>\n",
       "      <td>DE_1649</td>\n",
       "      <td>None</td>\n",
       "      <td>29734760.0</td>\n",
       "      <td>29734760.0</td>\n",
       "      <td>28667044</td>\n",
       "      <td>28667044.0</td>\n",
       "      <td>2005-2007</td>\n",
       "      <td>2005</td>\n",
       "      <td>The number of allowances and ERUs/CERs surrend...</td>\n",
       "    </tr>\n",
       "    <tr>\n",
       "      <th>1</th>\n",
       "      <td>None</td>\n",
       "      <td>57121443.0</td>\n",
       "      <td>True</td>\n",
       "      <td>57121443.0</td>\n",
       "      <td>None</td>\n",
       "      <td>NaN</td>\n",
       "      <td>A</td>\n",
       "      <td>DE_1649</td>\n",
       "      <td>None</td>\n",
       "      <td>27386683.0</td>\n",
       "      <td>27386683.0</td>\n",
       "      <td>28667044</td>\n",
       "      <td>28667044.0</td>\n",
       "      <td>2005-2007</td>\n",
       "      <td>2006</td>\n",
       "      <td>The number of allowances and ERUs/CERs surrend...</td>\n",
       "    </tr>\n",
       "  </tbody>\n",
       "</table>\n",
       "</div>"
      ],
      "text/plain": [
       "  penalty  surrenderedCummulative  verifiedUpdated  verifiedCummulative  \\\n",
       "0    None              29734760.0             True           29734760.0   \n",
       "1    None              57121443.0             True           57121443.0   \n",
       "\n",
       "  allocated10c  allocatedNewEntrance compliance_id installation_id balance  \\\n",
       "0         None                   NaN             A         DE_1649    None   \n",
       "1         None                   NaN             A         DE_1649    None   \n",
       "\n",
       "   surrendered    verified  allocatedTotal  allocatedFree euetsPhase  year  \\\n",
       "0   29734760.0  29734760.0        28667044     28667044.0  2005-2007  2005   \n",
       "1   27386683.0  27386683.0        28667044     28667044.0  2005-2007  2006   \n",
       "\n",
       "                                          compliance  \n",
       "0  The number of allowances and ERUs/CERs surrend...  \n",
       "1  The number of allowances and ERUs/CERs surrend...  "
      ]
     },
     "execution_count": 9,
     "metadata": {},
     "output_type": "execute_result"
    }
   ],
   "source": [
    "inst.compliance\n",
    "df_compliance = inst.get_compliance().drop(\"reportedInSystem_id\", axis=1)\n",
    "df_compliance.head(2)"
   ]
  },
  {
   "cell_type": "markdown",
   "metadata": {},
   "source": [
    "To get a first impression, plot compliance, i.e., allocated and surrendered allowances and verified emissions over time:"
   ]
  },
  {
   "cell_type": "code",
   "execution_count": 10,
   "metadata": {},
   "outputs": [
    {
     "data": {
      "text/plain": [
       "<AxesSubplot:xlabel='year', ylabel='Million tCO$_2$'>"
      ]
     },
     "execution_count": 10,
     "metadata": {},
     "output_type": "execute_result"
    },
    {
     "data": {
      "image/png": "[encoded data removed]",
      "text/plain": [
       "<Figure size 720x288 with 1 Axes>"
      ]
     },
     "metadata": {
      "needs_background": "light"
     },
     "output_type": "display_data"
    }
   ],
   "source": [
    "df_compliance[[\"year\", \"allocatedTotal\", \"verified\", \"surrendered\"]]\\\n",
    "    .set_index(\"year\").div(1000000)\\\n",
    "    .plot(kind=\"bar\", figsize=(10,4), ylabel=r\"Million tCO$_2$\", grid=True)"
   ]
  },
  {
   "cell_type": "markdown",
   "metadata": {},
   "source": [
    "The plot provides three main insights: First, in all years, surrendered allowances equaled or exceeded verified emissions, i.e., the installation was always compliant. Second, emissions remained rather constant between 2005 and 2012 although showing some annual variations. From 2013 onwards, emissions seem to show a decreasing trend. Third, in the first (second) EUETS period, the installation received about 25 (15) million allowances for free but received no free allocation after 2012. Irrespective of free allocation, the installation was in need to acquire additional allowances from 2008 onwards, i.e., verified emissions always exceeded free allocation."
   ]
  },
  {
   "cell_type": "markdown",
   "metadata": {},
   "source": [
    "# Surrendering"
   ]
  },
  {
   "cell_type": "markdown",
   "metadata": {},
   "source": [
    "The installation was in need to acquire additional allowances to be compliant with the EUETS. This offers the question, which allowances have been surrendered. For the first two periods (2005-2007, 2008-2012) the EUTL reports the type of allowances surrendered (e.g., EUA, CER, ERU) as well as the country in which the surrendered certificate has been created. \n",
    "\n",
    "Technically, surrendering unit details are also accessible through the installation object (property: surrendering) and the method get_surrendering() provides a Pandas dataframe:"
   ]
  },
  {
   "cell_type": "markdown",
   "metadata": {},
   "source": [
    "For periods prior to 2013 we observe the country of origin for surrendered units: "
   ]
  },
  {
   "cell_type": "code",
   "execution_count": 11,
   "metadata": {},
   "outputs": [
    {
     "data": {
      "text/plain": [
       "originatingRegistry_id\n",
       "AT      0.003655\n",
       "BE      0.534571\n",
       "BG      0.002657\n",
       "CZ      0.595094\n",
       "DE    163.078244\n",
       "DK      0.014600\n",
       "EE      0.000330\n",
       "ES      1.264313\n",
       "FI      0.044167\n",
       "FR      0.170644\n",
       "GB      0.888548\n",
       "IE      0.013412\n",
       "NL      0.396262\n",
       "NO      0.081062\n",
       "SK      0.107795\n",
       "dtype: float64"
      ]
     },
     "execution_count": 11,
     "metadata": {},
     "output_type": "execute_result"
    },
    {
     "data": {
      "image/png": "[encoded data removed]",
      "text/plain": [
       "<Figure size 720x288 with 1 Axes>"
      ]
     },
     "metadata": {
      "needs_background": "light"
     },
     "output_type": "display_data"
    }
   ],
   "source": [
    "df_p = (inst.get_surrendering()[[\"year\", \"originatingRegistry_id\", \"amount\"]]\n",
    "        .pivot_table(\"amount\", \"year\", \"originatingRegistry_id\")\n",
    "        .div(1000000)\n",
    "       )\n",
    "\n",
    "ax = df_p.plot(kind=\"bar\", stacked=True,  figsize=(10,4),)\n",
    "ax.legend(bbox_to_anchor=(0.9, -0.2), loc=0, ncol=8)\n",
    "ax.set_ylabel(\"Million Allowances\")\n",
    "df_p.sum()"
   ]
  },
  {
   "cell_type": "markdown",
   "metadata": {},
   "source": [
    "# Accounts"
   ]
  },
  {
   "cell_type": "markdown",
   "metadata": {},
   "source": [
    "Our installation shows some variety of allowances used for surrendering. We now turn to the question, how the installation acquired these allowances. To find an answer to this this questions, we need to examine the transaction behavior of related <i>Accounts</i>.\n",
    "\n",
    "The EUETS implements emissions trading. Industrial plants regulated are called <i>Installations</i>. Each installation has to be related to an accounts. These accounts might (and are likely to) change over time but at each instance in time an installation is represented by an account. Accounts are the backbone of the trading system, i.e., allowances are transferred between accounts not between installations. Accounts related to installations are called operator holding accounts. As transfers of allowances take place at the account level, we need to find out which accounts represent our installation.\n",
    "\n",
    "Technically, related accounts are again implemented as property on the installation object (property: accounts). Accounts related to installations are called operator holding accounts (oha):"
   ]
  },
  {
   "cell_type": "code",
   "execution_count": 12,
   "metadata": {},
   "outputs": [
    {
     "data": {
      "text/plain": [
       "[<Account(104791, '1667 - Anlagenkonto', 'DE', '100-7')>,\n",
       " <Account(2501, '1667 - Anlagenkonto', 'DE', '120-0')>]"
      ]
     },
     "execution_count": 12,
     "metadata": {},
     "output_type": "execute_result"
    }
   ],
   "source": [
    "ohas = inst.accounts\n",
    "ohas"
   ]
  },
  {
   "cell_type": "markdown",
   "metadata": {},
   "source": [
    "There are two different accounts. 120-0 denotes former operator holding accounts whereas 100-7 denotes the operating holding account. This account structure is common for installations that have been regulated under the EUETS already before 2013. Due to the change in the EUTL, all installation had to convert their account from 120-0 to 100-7 accounts. Consequently, our 2005 analysis has to focus in the 120-0 account with the meaningful name \"Operator Account\"."
   ]
  },
  {
   "cell_type": "markdown",
   "metadata": {},
   "source": [
    "## Getting transactions"
   ]
  },
  {
   "cell_type": "markdown",
   "metadata": {},
   "source": [
    "Transactions are provided as property on the respective account (property: transactions). To separate transaction by whether the selected account is acquiring or transferring allowances, separate transactions exist (acquiringTransactions, transferringTransactions). get_transactions() provides again a Pandas dataframe with transaction by the respective account."
   ]
  },
  {
   "cell_type": "code",
   "execution_count": 13,
   "metadata": {},
   "outputs": [
    {
     "name": "stdout",
     "output_type": "stream",
     "text": [
      "<class 'pandas.core.frame.DataFrame'>\n",
      "DatetimeIndex: 153 entries, 2005-04-04 16:55:33 to 2012-04-26 11:35:58\n",
      "Data columns (total 21 columns):\n",
      " #   Column                           Non-Null Count  Dtype \n",
      "---  ------                           --------------  ----- \n",
      " 0   unitType_id                      153 non-null    object\n",
      " 1   project_id                       0 non-null      object\n",
      " 2   acquiringYear                    0 non-null      object\n",
      " 3   amount                           153 non-null    int64 \n",
      " 4   transferringYear                 0 non-null      object\n",
      " 5   transactionTypeMain_id           153 non-null    int64 \n",
      " 6   transactionTypeSupplementary_id  153 non-null    int64 \n",
      " 7   transferringAccount_id           153 non-null    int64 \n",
      " 8   transactionID                    153 non-null    object\n",
      " 9   acquiringAccount_id              153 non-null    int64 \n",
      " 10  id                               153 non-null    int64 \n",
      " 11  tradingSystem_id                 153 non-null    object\n",
      " 12  unitType                         153 non-null    object\n",
      " 13  transactionTypeMain              153 non-null    object\n",
      " 14  transactionTypeSupplementary     66 non-null     object\n",
      " 15  acquiringAccountName             153 non-null    object\n",
      " 16  acquiringAccountType             153 non-null    object\n",
      " 17  transferringAccountName          153 non-null    object\n",
      " 18  transferringAccountType          153 non-null    object\n",
      " 19  direction                        153 non-null    int64 \n",
      " 20  amount_directed                  153 non-null    int64 \n",
      "dtypes: int64(8), object(13)\n",
      "memory usage: 26.3+ KB\n"
     ]
    }
   ],
   "source": [
    "df_trans = ohas[1].get_transactions()\n",
    "df_trans.info()"
   ]
  },
  {
   "cell_type": "markdown",
   "metadata": {},
   "source": [
    "Given that we look at an former operator holding accounts, we observe transactions between 2005 and 2012. Overall we observe over 200 entries in the transaction data. However, that does not mean that the transaction was involved in 200 transactions. If a transaction involves different unit types or units from different origins, this is reported as a row in the transaction data. To see the number of transactions carried out, we count the number of transactionIDs as provided by the EUTL: "
   ]
  },
  {
   "cell_type": "code",
   "execution_count": 14,
   "metadata": {},
   "outputs": [
    {
     "name": "stdout",
     "output_type": "stream",
     "text": [
      "Number of transactions: 43\n"
     ]
    }
   ],
   "source": [
    "print(\"Number of transactions: %d\" % len(df_trans[\"transactionID\"].unique()))"
   ]
  },
  {
   "cell_type": "markdown",
   "metadata": {},
   "source": [
    "So only 50 transactions have been carried out. Before continuing to analyze the first year of transaction activities, we show how to calculate allowance holdings over time."
   ]
  },
  {
   "cell_type": "markdown",
   "metadata": {},
   "source": [
    "## Allowances holdings"
   ]
  },
  {
   "cell_type": "markdown",
   "metadata": {},
   "source": [
    "The dataframe contains a column \"direction\" which equals 1 if the account is acquiring and -1 if the account is transferring allowances. The column \"amount_directed\" contains the amount of each transaction multiplied by the direction. We can use it plot transfers over time and also the cumulative allowance holding:"
   ]
  },
  {
   "cell_type": "code",
   "execution_count": 16,
   "metadata": {},
   "outputs": [
    {
     "data": {
      "text/plain": [
       "(12748.766339699074, 15585.422213541668)"
      ]
     },
     "execution_count": 16,
     "metadata": {},
     "output_type": "execute_result"
    },
    {
     "data": {
      "image/png": "[encoded data removed]",
      "text/plain": [
       "<Figure size 1080x360 with 1 Axes>"
      ]
     },
     "metadata": {
      "needs_background": "light"
     },
     "output_type": "display_data"
    }
   ],
   "source": [
    "df_ = df_trans[[\"amount_directed\"]]/1000000\n",
    "df_[\"holding\"] = df_.amount_directed.cumsum()\n",
    "ax = df_.plot( figsize=(15,5), ylabel=\"Million Allowances\")\n",
    "lims = ax.get_xlim()\n",
    "ax.hlines(0, *lims, colors=\"k\", ls=\":\")\n",
    "ax.set_xlim(*lims)\n",
    "#df_"
   ]
  },
  {
   "cell_type": "markdown",
   "metadata": {},
   "source": [
    "We observe a rather typical pattern. End of February, the account receives a large amount of allowances (blue line). This is primary allocation of allowances. It is followed by a large negative transfer which marks surrendering of allowances. In between we observe further transactions which might be market transaction, transactions within the company, etc. Allowance holding naturally follows transactions. Surprisingly, allowance holding turns negative at some point in time, which is legally impossible. Here it seems that we are missing some transactions."
   ]
  },
  {
   "cell_type": "markdown",
   "metadata": {},
   "source": [
    "## Transactions"
   ]
  },
  {
   "cell_type": "markdown",
   "metadata": {},
   "source": [
    "Lets finally take a closer look at transactions until the first surrendering of allowances that took place beginning of April 2006. We do not aim to track the origin of allowances and, thus, aggregate data to transactions that took place"
   ]
  },
  {
   "cell_type": "code",
   "execution_count": 17,
   "metadata": {},
   "outputs": [
    {
     "data": {
      "text/html": [
       "<div>\n",
       "<style scoped>\n",
       "    .dataframe tbody tr th:only-of-type {\n",
       "        vertical-align: middle;\n",
       "    }\n",
       "\n",
       "    .dataframe tbody tr th {\n",
       "        vertical-align: top;\n",
       "    }\n",
       "\n",
       "    .dataframe thead th {\n",
       "        text-align: right;\n",
       "    }\n",
       "</style>\n",
       "<table border=\"1\" class=\"dataframe\">\n",
       "  <thead>\n",
       "    <tr style=\"text-align: right;\">\n",
       "      <th></th>\n",
       "      <th>transactionID</th>\n",
       "      <th>transactionTypeMain</th>\n",
       "      <th>transactionTypeSupplementary</th>\n",
       "      <th>transferringAccountName</th>\n",
       "      <th>transferringAccountType</th>\n",
       "      <th>acquiringAccountName</th>\n",
       "      <th>acquiringAccountType</th>\n",
       "      <th>amount_directed</th>\n",
       "    </tr>\n",
       "    <tr>\n",
       "      <th>date</th>\n",
       "      <th></th>\n",
       "      <th></th>\n",
       "      <th></th>\n",
       "      <th></th>\n",
       "      <th></th>\n",
       "      <th></th>\n",
       "      <th></th>\n",
       "      <th></th>\n",
       "    </tr>\n",
       "  </thead>\n",
       "  <tbody>\n",
       "    <tr>\n",
       "      <th>2005-04-04 16:55:33</th>\n",
       "      <td>DE258</td>\n",
       "      <td>Internal - Internal transfer of unit/supplemen...</td>\n",
       "      <td>Allowance allocation</td>\n",
       "      <td>Nationalkonto - Ausgabe</td>\n",
       "      <td>Party Holding Account</td>\n",
       "      <td>1667 - Anlagenkonto</td>\n",
       "      <td>Former Operator Holding Account</td>\n",
       "      <td>28667044</td>\n",
       "    </tr>\n",
       "    <tr>\n",
       "      <th>2006-02-15 19:47:42</th>\n",
       "      <td>DE5541</td>\n",
       "      <td>Internal - Internal transfer of unit/supplemen...</td>\n",
       "      <td>Allowance allocation</td>\n",
       "      <td>Nationalkonto - Ausgabe</td>\n",
       "      <td>Party Holding Account</td>\n",
       "      <td>1667 - Anlagenkonto</td>\n",
       "      <td>Former Operator Holding Account</td>\n",
       "      <td>28667044</td>\n",
       "    </tr>\n",
       "    <tr>\n",
       "      <th>2006-04-21 10:11:11</th>\n",
       "      <td>DE7509</td>\n",
       "      <td>Internal - Internal transfer of unit/supplemen...</td>\n",
       "      <td>Allowance surrender</td>\n",
       "      <td>1667 - Anlagenkonto</td>\n",
       "      <td>Former Operator Holding Account</td>\n",
       "      <td>Nationalkonto - Abgabe</td>\n",
       "      <td>Party Holding Account</td>\n",
       "      <td>-29734760</td>\n",
       "    </tr>\n",
       "  </tbody>\n",
       "</table>\n",
       "</div>"
      ],
      "text/plain": [
       "                    transactionID  \\\n",
       "date                                \n",
       "2005-04-04 16:55:33         DE258   \n",
       "2006-02-15 19:47:42        DE5541   \n",
       "2006-04-21 10:11:11        DE7509   \n",
       "\n",
       "                                                   transactionTypeMain  \\\n",
       "date                                                                     \n",
       "2005-04-04 16:55:33  Internal - Internal transfer of unit/supplemen...   \n",
       "2006-02-15 19:47:42  Internal - Internal transfer of unit/supplemen...   \n",
       "2006-04-21 10:11:11  Internal - Internal transfer of unit/supplemen...   \n",
       "\n",
       "                    transactionTypeSupplementary  transferringAccountName  \\\n",
       "date                                                                        \n",
       "2005-04-04 16:55:33         Allowance allocation  Nationalkonto - Ausgabe   \n",
       "2006-02-15 19:47:42         Allowance allocation  Nationalkonto - Ausgabe   \n",
       "2006-04-21 10:11:11          Allowance surrender      1667 - Anlagenkonto   \n",
       "\n",
       "                             transferringAccountType    acquiringAccountName  \\\n",
       "date                                                                           \n",
       "2005-04-04 16:55:33            Party Holding Account     1667 - Anlagenkonto   \n",
       "2006-02-15 19:47:42            Party Holding Account     1667 - Anlagenkonto   \n",
       "2006-04-21 10:11:11  Former Operator Holding Account  Nationalkonto - Abgabe   \n",
       "\n",
       "                                acquiringAccountType  amount_directed  \n",
       "date                                                                   \n",
       "2005-04-04 16:55:33  Former Operator Holding Account         28667044  \n",
       "2006-02-15 19:47:42  Former Operator Holding Account         28667044  \n",
       "2006-04-21 10:11:11            Party Holding Account        -29734760  "
      ]
     },
     "execution_count": 17,
     "metadata": {},
     "output_type": "execute_result"
    }
   ],
   "source": [
    "df_trans_2005 = df_trans[:\"2006/04/30\"]\n",
    "df_trans_2005.reset_index().groupby(\n",
    "    [\"date\", \"transactionID\", \"transactionTypeMain\", \"transactionTypeSupplementary\",\n",
    "     \"transferringAccountName\", \"transferringAccountType\",\n",
    "     \"acquiringAccountName\", \"acquiringAccountType\"], as_index=False)\\\n",
    "    .amount_directed.sum().set_index(\"date\").sort_index()"
   ]
  },
  {
   "cell_type": "markdown",
   "metadata": {},
   "source": [
    "In the first transactions, the operator account received allowances from the regulator (allocation). Likewise free allowances for the year 2006 have been booked at 2006/02/15.\n",
    "\n",
    "On 2006/04/21 allowances equal to verified emissions in the year 2005 (see above) have been surrendered and the installation was, thus, compliant."
   ]
  },
  {
   "cell_type": "markdown",
   "metadata": {},
   "source": [
    "# Conclusions"
   ]
  },
  {
   "cell_type": "markdown",
   "metadata": {},
   "source": [
    "This notebook shows how the EUTL database provided by EUETS.INFO can be used to analyze compliance and transaction behavior of a single installation. The analysis takes place in three steps:\n",
    "1. Use the installation identifier to get the installation object.\n",
    "2. The installation object provides methods to obtain compliance and surrendering details as well as associated accounts\n",
    "3. Account objects provide methods to assess related transactions."
   ]
  },
  {
   "cell_type": "code",
   "execution_count": null,
   "metadata": {},
   "outputs": [],
   "source": []
  }
 ],
 "metadata": {
  "kernelspec": {
   "display_name": "Python [conda env:py38_eutl]",
   "language": "python",
   "name": "conda-env-py38_eutl-py"
  },
  "language_info": {
   "codemirror_mode": {
    "name": "ipython",
    "version": 3
   },
   "file_extension": ".py",
   "mimetype": "text/x-python",
   "name": "python",
   "nbconvert_exporter": "python",
   "pygments_lexer": "ipython3",
   "version": "3.8.5"
  },
  "toc": {
   "base_numbering": 1,
   "nav_menu": {},
   "number_sections": true,
   "sideBar": true,
   "skip_h1_title": false,
   "title_cell": "Table of Contents",
   "title_sidebar": "Contents",
   "toc_cell": false,
   "toc_position": {},
   "toc_section_display": true,
   "toc_window_display": false
  },
  "varInspector": {
   "cols": {
    "lenName": 16,
    "lenType": 16,
    "lenVar": 40
   },
   "kernels_config": {
    "python": {
     "delete_cmd_postfix": "",
     "delete_cmd_prefix": "del ",
     "library": "var_list.py",
     "varRefreshCmd": "print(var_dic_list())"
    },
    "r": {
     "delete_cmd_postfix": ") ",
     "delete_cmd_prefix": "rm(",
     "library": "var_list.r",
     "varRefreshCmd": "cat(var_dic_list()) "
    }
   },
   "types_to_exclude": [
    "module",
    "function",
    "builtin_function_or_method",
    "instance",
    "_Feature"
   ],
   "window_display": false
  }
 },
 "nbformat": 4,
 "nbformat_minor": 4
}
