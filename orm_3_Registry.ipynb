{
 "cells": [
  {
   "cell_type": "markdown",
   "metadata": {},
   "source": [
    "# Introduction"
   ]
  },
  {
   "cell_type": "markdown",
   "metadata": {},
   "source": [
    "The European Transaction Log (EUTL) is the backbone of the European Union Emissions Trading System (EUETS). It implements the transfer of emission allowances between parties active in the EUETS. The EUTL provides data on regulated installations, their emissions as well as transfers of allowances.  \n",
    "\n",
    "Assuming that the database has been successfully populated with the EUTL data (see 1_create_database.ipynb), this notebook illustrates how to analyze compliance and transactions on the registry level.\n",
    "\n",
    "Specifically, we consider the German registry with the identifier DE."
   ]
  },
  {
   "cell_type": "code",
   "execution_count": 1,
   "metadata": {},
   "outputs": [],
   "source": [
    "id_reg = \"DE\""
   ]
  },
  {
   "cell_type": "markdown",
   "metadata": {},
   "source": [
    "# Packages and options"
   ]
  },
  {
   "cell_type": "code",
   "execution_count": 2,
   "metadata": {},
   "outputs": [],
   "source": [
    "from pyeutl.orm import DataAccessLayer       # data access layer to access the database\n",
    "from pyeutl.orm import Country, Installation  # use country class to access registries\n",
    "import pandas as pd\n",
    "import matplotlib.pyplot as plt\n",
    "%matplotlib inline"
   ]
  },
  {
   "cell_type": "markdown",
   "metadata": {},
   "source": [
    "Database connection settings"
   ]
  },
  {
   "cell_type": "code",
   "execution_count": 3,
   "metadata": {},
   "outputs": [],
   "source": [
    "connectionSettings = dict(\n",
    "    user=\"eutlAdmin\", \n",
    "    host=\"localhost\", \n",
    "    db=\"eutl_orm\", \n",
    "    passw=\"1234\",\n",
    "    port=5432\n",
    ")"
   ]
  },
  {
   "cell_type": "markdown",
   "metadata": {},
   "source": [
    "# Connect to database"
   ]
  },
  {
   "cell_type": "markdown",
   "metadata": {},
   "source": [
    "Connect to database and get a session:"
   ]
  },
  {
   "cell_type": "code",
   "execution_count": 4,
   "metadata": {},
   "outputs": [],
   "source": [
    "dal = DataAccessLayer(**connectionSettings)\n",
    "session = dal.session"
   ]
  },
  {
   "cell_type": "markdown",
   "metadata": {},
   "source": [
    "# Get registry"
   ]
  },
  {
   "cell_type": "markdown",
   "metadata": {},
   "source": [
    "Given the registry id, use the session to get the registry:"
   ]
  },
  {
   "cell_type": "code",
   "execution_count": 5,
   "metadata": {},
   "outputs": [
    {
     "name": "stdout",
     "output_type": "stream",
     "text": [
      "DE: Germany\n"
     ]
    }
   ],
   "source": [
    "registry = session.query(Country).get(id_reg)\n",
    "print(registry.id + \": \" + registry.name)"
   ]
  },
  {
   "cell_type": "markdown",
   "metadata": {},
   "source": [
    "# Installations"
   ]
  },
  {
   "cell_type": "markdown",
   "metadata": {},
   "source": [
    "## Low-level access: Get installation objects"
   ]
  },
  {
   "cell_type": "markdown",
   "metadata": {},
   "source": [
    "The country object has a property \"installations_in_registry\" which returns the query to get all installations registered in the country. The property \"installations_in_country\" returns all installations located in the country. "
   ]
  },
  {
   "cell_type": "code",
   "execution_count": 6,
   "metadata": {},
   "outputs": [
    {
     "data": {
      "text/plain": [
       "<sqlalchemy.orm.dynamic.AppenderQuery at 0x22e6740f100>"
      ]
     },
     "execution_count": 6,
     "metadata": {},
     "output_type": "execute_result"
    }
   ],
   "source": [
    "inst = registry.installations_in_registry\n",
    "inst"
   ]
  },
  {
   "cell_type": "markdown",
   "metadata": {},
   "source": [
    "Given the query we can either fetch the results:"
   ]
  },
  {
   "cell_type": "code",
   "execution_count": 7,
   "metadata": {},
   "outputs": [
    {
     "data": {
      "text/plain": [
       "[<Installation('DE_200695', None, <Country('DE', 'Germany')>)>,\n",
       " <Installation('DE_200675', None, <Country('DE', 'Germany')>)>,\n",
       " <Installation('DE_200383', None, <Country('DE', 'Germany')>)>,\n",
       " <Installation('DE_201347', None, <Country('DE', 'Germany')>)>,\n",
       " <Installation('DE_201401', None, <Country('DE', 'Germany')>)>]"
      ]
     },
     "execution_count": 7,
     "metadata": {},
     "output_type": "execute_result"
    }
   ],
   "source": [
    "inst.first()          # get only first results\n",
    "inst.all()            # get all results\n",
    "inst.limit(5).all()   # get first 5 results "
   ]
  },
  {
   "cell_type": "markdown",
   "metadata": {},
   "source": [
    "We could also further filter the results, e.g., getting all installations under activity 1 or 20 (combustion of fuels):"
   ]
  },
  {
   "cell_type": "code",
   "execution_count": 8,
   "metadata": {},
   "outputs": [
    {
     "name": "stdout",
     "output_type": "stream",
     "text": [
      "Number of combustion installations:  1497\n"
     ]
    }
   ],
   "source": [
    "t_ = inst.filter(Installation.activity_id.in_([1, 20])).all()\n",
    "print(\"Number of combustion installations: \", len(t_))"
   ]
  },
  {
   "cell_type": "markdown",
   "metadata": {},
   "source": [
    "## More easy: get_installations()"
   ]
  },
  {
   "cell_type": "markdown",
   "metadata": {},
   "source": [
    "The low-level access is useful to directly get the installation objects which allows constructing different filters. For convenience, get_installations() implements a method that returns all installations in the registry as a Pandas dataframe."
   ]
  },
  {
   "cell_type": "code",
   "execution_count": 9,
   "metadata": {},
   "outputs": [
    {
     "name": "stdout",
     "output_type": "stream",
     "text": [
      "<class 'pandas.core.frame.DataFrame'>\n",
      "RangeIndex: 2832 entries, 0 to 2831\n",
      "Data columns (total 36 columns):\n",
      " #   Column               Non-Null Count  Dtype         \n",
      "---  ------               --------------  -----         \n",
      " 0   euEntitlement        2247 non-null   float64       \n",
      " 1   eprtrID              2114 non-null   object        \n",
      " 2   country_id           2832 non-null   object        \n",
      " 3   isAircraftOperator   2832 non-null   bool          \n",
      " 4   chEntitlement        9 non-null      float64       \n",
      " 5   parentCompany        2060 non-null   object        \n",
      " 6   latitudeEutl         11 non-null     float64       \n",
      " 7   ec748_2009Code       202 non-null    object        \n",
      " 8   subsidiaryCompany    1956 non-null   object        \n",
      " 9   longitudeEutl        11 non-null     float64       \n",
      " 10  permitDateEntry      2630 non-null   datetime64[ns]\n",
      " 11  permitID             2630 non-null   object        \n",
      " 12  latitudeGoogle       2626 non-null   float64       \n",
      " 13  id                   2832 non-null   object        \n",
      " 14  addressMain          2832 non-null   object        \n",
      " 15  designatorICAO       102 non-null    object        \n",
      " 16  longitudeGoogle      2626 non-null   float64       \n",
      " 17  name                 2630 non-null   object        \n",
      " 18  addressSecondary     185 non-null    object        \n",
      " 19  monitoringID         202 non-null    object        \n",
      " 20  nace15_id            2288 non-null   object        \n",
      " 21  registry_id          2832 non-null   object        \n",
      " 22  postalCode           2832 non-null   object        \n",
      " 23  monitoringExpiry     0 non-null      object        \n",
      " 24  nace20_id            2484 non-null   object        \n",
      " 25  activity_id          2832 non-null   int64         \n",
      " 26  city                 2832 non-null   object        \n",
      " 27  monitoringFirstYear  202 non-null    object        \n",
      " 28  nace_id              2686 non-null   object        \n",
      " 29  permitDateExpiry     580 non-null    datetime64[ns]\n",
      " 30  registry             2832 non-null   object        \n",
      " 31  activity             2832 non-null   object        \n",
      " 32  activity_category    2832 non-null   object        \n",
      " 33  nace                 2686 non-null   object        \n",
      " 34  nace_category        2686 non-null   object        \n",
      " 35  country              2832 non-null   object        \n",
      "dtypes: bool(1), datetime64[ns](2), float64(6), int64(1), object(26)\n",
      "memory usage: 777.3+ KB\n"
     ]
    }
   ],
   "source": [
    "inst = registry.get_installations()\n",
    "inst.info()"
   ]
  },
  {
   "cell_type": "markdown",
   "metadata": {},
   "source": [
    "To get an overview about the number of activities we can use a simple groupby operation but need to to be aware that some installations do not have a Nace code assigned:"
   ]
  },
  {
   "cell_type": "code",
   "execution_count": 10,
   "metadata": {},
   "outputs": [
    {
     "data": {
      "text/html": [
       "<div>\n",
       "<style scoped>\n",
       "    .dataframe tbody tr th:only-of-type {\n",
       "        vertical-align: middle;\n",
       "    }\n",
       "\n",
       "    .dataframe tbody tr th {\n",
       "        vertical-align: top;\n",
       "    }\n",
       "\n",
       "    .dataframe thead th {\n",
       "        text-align: right;\n",
       "    }\n",
       "</style>\n",
       "<table border=\"1\" class=\"dataframe\">\n",
       "  <thead>\n",
       "    <tr style=\"text-align: right;\">\n",
       "      <th></th>\n",
       "      <th>id</th>\n",
       "    </tr>\n",
       "    <tr>\n",
       "      <th>nace</th>\n",
       "      <th></th>\n",
       "    </tr>\n",
       "  </thead>\n",
       "  <tbody>\n",
       "    <tr>\n",
       "      <th>Steam and air conditioning supply</th>\n",
       "      <td>598</td>\n",
       "    </tr>\n",
       "    <tr>\n",
       "      <th>Production of electricity</th>\n",
       "      <td>257</td>\n",
       "    </tr>\n",
       "    <tr>\n",
       "      <th>Air transport</th>\n",
       "      <td>202</td>\n",
       "    </tr>\n",
       "    <tr>\n",
       "      <th>Manufacture of paper and paperboard</th>\n",
       "      <td>159</td>\n",
       "    </tr>\n",
       "    <tr>\n",
       "      <th>Manufacture of bricks, tiles and construction products, in baked clay</th>\n",
       "      <td>152</td>\n",
       "    </tr>\n",
       "  </tbody>\n",
       "</table>\n",
       "</div>"
      ],
      "text/plain": [
       "                                                     id\n",
       "nace                                                   \n",
       "Steam and air conditioning supply                   598\n",
       "Production of electricity                           257\n",
       "Air transport                                       202\n",
       "Manufacture of paper and paperboard                 159\n",
       "Manufacture of bricks, tiles and construction p...  152"
      ]
     },
     "execution_count": 10,
     "metadata": {},
     "output_type": "execute_result"
    }
   ],
   "source": [
    "inst.groupby(\"nace\", dropna=False)[[\"id\"]].count().sort_values(\"id\", ascending=False).head(5)"
   ]
  },
  {
   "cell_type": "markdown",
   "metadata": {},
   "source": [
    "Most installations provide either heat or electricity (or both). The large number of NaN results from aircraft operators that do not have a nace code assigned: "
   ]
  },
  {
   "cell_type": "code",
   "execution_count": 11,
   "metadata": {},
   "outputs": [
    {
     "data": {
      "text/html": [
       "<div>\n",
       "<style scoped>\n",
       "    .dataframe tbody tr th:only-of-type {\n",
       "        vertical-align: middle;\n",
       "    }\n",
       "\n",
       "    .dataframe tbody tr th {\n",
       "        vertical-align: top;\n",
       "    }\n",
       "\n",
       "    .dataframe thead th {\n",
       "        text-align: right;\n",
       "    }\n",
       "</style>\n",
       "<table border=\"1\" class=\"dataframe\">\n",
       "  <thead>\n",
       "    <tr style=\"text-align: right;\">\n",
       "      <th></th>\n",
       "      <th></th>\n",
       "      <th>id</th>\n",
       "    </tr>\n",
       "    <tr>\n",
       "      <th>activity</th>\n",
       "      <th>activity_id</th>\n",
       "      <th></th>\n",
       "    </tr>\n",
       "  </thead>\n",
       "  <tbody>\n",
       "    <tr>\n",
       "      <th>Combustion of fuels</th>\n",
       "      <th>20</th>\n",
       "      <td>57</td>\n",
       "    </tr>\n",
       "    <tr>\n",
       "      <th>Production of bulk chemicals</th>\n",
       "      <th>42</th>\n",
       "      <td>56</td>\n",
       "    </tr>\n",
       "    <tr>\n",
       "      <th>Combustion installations with a rated thermal input exceeding 20 MW</th>\n",
       "      <th>1</th>\n",
       "      <td>9</td>\n",
       "    </tr>\n",
       "    <tr>\n",
       "      <th>Installations for the manufacture of ceramic products by firing, in particular roofing tiles, bricks, refractory bricks, tiles, stoneware or porcelain</th>\n",
       "      <th>8</th>\n",
       "      <td>5</td>\n",
       "    </tr>\n",
       "  </tbody>\n",
       "</table>\n",
       "</div>"
      ],
      "text/plain": [
       "                                                                id\n",
       "activity                                           activity_id    \n",
       "Combustion of fuels                                20           57\n",
       "Production of bulk chemicals                       42           56\n",
       "Combustion installations with a rated thermal i... 1             9\n",
       "Installations for the manufacture of ceramic pr... 8             5"
      ]
     },
     "execution_count": 11,
     "metadata": {},
     "output_type": "execute_result"
    }
   ],
   "source": [
    "inst[pd.isnull(inst.nace)].groupby([\"activity\", \"activity_id\"])[[\"id\"]].count()\\\n",
    "        .sort_values(\"id\", ascending=False).head(4)"
   ]
  },
  {
   "cell_type": "markdown",
   "metadata": {},
   "source": [
    "The get_installation() method implements allows filtering installations based on installation attributes. For this, provide a dictionary with the installation attribute as key and a *list* as values. The dataframe returned only includes installations with attribute values as given in the respective list.\n",
    "\n",
    "As an example, filter again for installations related to combustion activities:"
   ]
  },
  {
   "cell_type": "code",
   "execution_count": 12,
   "metadata": {},
   "outputs": [
    {
     "name": "stdout",
     "output_type": "stream",
     "text": [
      "Number of combustion installations:  1497\n"
     ]
    }
   ],
   "source": [
    "filt = {\"activity_id\": [1, 20]}\n",
    "t_ = registry.get_installations(filter=filt)\n",
    "print(\"Number of combustion installations: \", len(t_))"
   ]
  },
  {
   "cell_type": "code",
   "execution_count": 13,
   "metadata": {},
   "outputs": [
    {
     "data": {
      "text/plain": [
       "array([20,  1], dtype=int64)"
      ]
     },
     "execution_count": 13,
     "metadata": {},
     "output_type": "execute_result"
    }
   ],
   "source": [
    "registry.get_installations(filter=filt).activity_id.unique()"
   ]
  },
  {
   "cell_type": "markdown",
   "metadata": {},
   "source": [
    "# Compliance"
   ]
  },
  {
   "cell_type": "markdown",
   "metadata": {},
   "source": [
    "## Low-level: Using installation objects"
   ]
  },
  {
   "cell_type": "markdown",
   "metadata": {},
   "source": [
    "Given a list of installation objects, we can analyze each installation in same manner as outline in the previous notebook. \n",
    "\n",
    "As an example, consider getting all compliance data for combustion activities in the selected registry:"
   ]
  },
  {
   "cell_type": "code",
   "execution_count": 14,
   "metadata": {},
   "outputs": [
    {
     "name": "stdout",
     "output_type": "stream",
     "text": [
      "Number of combustion installations:  1497\n"
     ]
    }
   ],
   "source": [
    "comb = registry.installations_in_registry.filter(Installation.activity_id.in_([1, 20])).all()\n",
    "print(\"Number of combustion installations: \", len(comb))"
   ]
  },
  {
   "cell_type": "markdown",
   "metadata": {},
   "source": [
    "Now follow the previous notebook and get the compliance data:"
   ]
  },
  {
   "cell_type": "code",
   "execution_count": 15,
   "metadata": {},
   "outputs": [
    {
     "name": "stdout",
     "output_type": "stream",
     "text": [
      "<class 'pandas.core.frame.DataFrame'>\n",
      "Int64Index: 38922 entries, 0 to 25\n",
      "Data columns (total 15 columns):\n",
      " #   Column                  Non-Null Count  Dtype \n",
      "---  ------                  --------------  ----- \n",
      " 0   verifiedUpdated         38922 non-null  bool  \n",
      " 1   verified                18171 non-null  object\n",
      " 2   allocatedTotal          38922 non-null  int64 \n",
      " 3   allocatedNewEntrance    597 non-null    object\n",
      " 4   compliance_id           18875 non-null  object\n",
      " 5   installation_id         38922 non-null  object\n",
      " 6   reportedInSystem        38922 non-null  object\n",
      " 7   surrendered             17680 non-null  object\n",
      " 8   verifiedCummulative     18470 non-null  object\n",
      " 9   allocated10c            0 non-null      object\n",
      " 10  allocatedFree           21317 non-null  object\n",
      " 11  euetsPhase              38922 non-null  object\n",
      " 12  year                    38922 non-null  int64 \n",
      " 13  surrenderedCummulative  18815 non-null  object\n",
      " 14  compliance              18875 non-null  object\n",
      "dtypes: bool(1), int64(2), object(12)\n",
      "memory usage: 4.5+ MB\n"
     ]
    }
   ],
   "source": [
    "df_comb = pd.concat([c.get_compliance() for c in comb])\n",
    "df_comb.info()"
   ]
  },
  {
   "cell_type": "markdown",
   "metadata": {},
   "source": [
    "Accessing data in this way, has the advantage to be rather flexible in allowing to access that data for each installation. However, that comes at performance cost. Moreover, you either need to join installation information like names and activities or to further aggregate the data. \n",
    "\n",
    "Therefore, the country object provides further methods that already include these information and aggregations."
   ]
  },
  {
   "cell_type": "markdown",
   "metadata": {},
   "source": [
    "## High level: get_compliance()"
   ]
  },
  {
   "cell_type": "markdown",
   "metadata": {},
   "source": [
    "get_compliance() returns a dataframe of compliance data related to the registry including limited installation details:"
   ]
  },
  {
   "cell_type": "code",
   "execution_count": 16,
   "metadata": {},
   "outputs": [
    {
     "name": "stdout",
     "output_type": "stream",
     "text": [
      "<class 'pandas.core.frame.DataFrame'>\n",
      "RangeIndex: 75777 entries, 0 to 75776\n",
      "Data columns (total 15 columns):\n",
      " #   Column                Non-Null Count  Dtype  \n",
      "---  ------                --------------  -----  \n",
      " 0   installation_id       75777 non-null  object \n",
      " 1   installation_name     68380 non-null  object \n",
      " 2   activity_id           75777 non-null  int64  \n",
      " 3   activity              75777 non-null  object \n",
      " 4   nace_id               71981 non-null  object \n",
      " 5   nace                  71981 non-null  object \n",
      " 6   year                  75777 non-null  int64  \n",
      " 7   surrendered           30210 non-null  float64\n",
      " 8   verified              31507 non-null  float64\n",
      " 9   allocatedTotal        75777 non-null  int64  \n",
      " 10  allocatedFree         38135 non-null  float64\n",
      " 11  allocated10c          14 non-null     float64\n",
      " 12  allocatedNewEntrance  1254 non-null   float64\n",
      " 13  nace_category         75777 non-null  object \n",
      " 14  activity_category     75777 non-null  object \n",
      "dtypes: float64(5), int64(3), object(7)\n",
      "memory usage: 8.7+ MB\n"
     ]
    }
   ],
   "source": [
    "df_comp = registry.get_compliance()\n",
    "df_comp.info()"
   ]
  },
  {
   "cell_type": "markdown",
   "metadata": {},
   "source": [
    "The frame allows to easily aggregate compliance data by the respective dimension. As an example, plot verified emissions by NACE category over time:"
   ]
  },
  {
   "cell_type": "code",
   "execution_count": 17,
   "metadata": {
    "code_folding": []
   },
   "outputs": [
    {
     "data": {
      "text/plain": [
       "<matplotlib.legend.Legend at 0x22e6c2e2340>"
      ]
     },
     "execution_count": 17,
     "metadata": {},
     "output_type": "execute_result"
    },
    {
     "data": {
      "image/png": "[encoded data removed]",
      "text/plain": [
       "<Figure size 864x432 with 1 Axes>"
      ]
     },
     "metadata": {
      "needs_background": "light"
     },
     "output_type": "display_data"
    }
   ],
   "source": [
    "ax = df_comp[df_comp.year < 2020].groupby([\"year\", \"nace_category\"], as_index=False)\\\n",
    "        .verified.sum()\\\n",
    "        .pivot_table(\"verified\", \"year\", \"nace_category\", dropna=False).div(1000000)\\\n",
    "        .plot(kind=\"bar\", stacked=True,  figsize=(12,6), ylabel=r\"Million tCO$_2$\", grid=True)\n",
    "ax.legend(bbox_to_anchor=(0.9, -0.2), loc=0, ncol=2)"
   ]
  },
  {
   "cell_type": "markdown",
   "metadata": {},
   "source": [
    "Likewise, by activity category:"
   ]
  },
  {
   "cell_type": "code",
   "execution_count": 18,
   "metadata": {},
   "outputs": [
    {
     "data": {
      "text/plain": [
       "<matplotlib.legend.Legend at 0x22e6e7bd970>"
      ]
     },
     "execution_count": 18,
     "metadata": {},
     "output_type": "execute_result"
    },
    {
     "data": {
      "image/png": "[encoded data removed]",
      "text/plain": [
       "<Figure size 864x432 with 1 Axes>"
      ]
     },
     "metadata": {
      "needs_background": "light"
     },
     "output_type": "display_data"
    }
   ],
   "source": [
    "ax = df_comp[df_comp.year < 2020].groupby([\"year\", \"activity_category\"], as_index=False)\\\n",
    "        .verified.sum()\\\n",
    "        .pivot_table(\"verified\", \"year\", \"activity_category\", dropna=False).div(1000000)\\\n",
    "        .plot(kind=\"bar\", stacked=True,  figsize=(12,6), ylabel=r\"Million tCO$_2$\", grid=True)\n",
    "ax.legend(bbox_to_anchor=(1, -0.2), loc=0, ncol=6)"
   ]
  },
  {
   "cell_type": "code",
   "execution_count": null,
   "metadata": {},
   "outputs": [],
   "source": []
  }
 ],
 "metadata": {
  "kernelspec": {
   "display_name": "Python [conda env:py38_eutl]",
   "language": "python",
   "name": "conda-env-py38_eutl-py"
  },
  "language_info": {
   "codemirror_mode": {
    "name": "ipython",
    "version": 3
   },
   "file_extension": ".py",
   "mimetype": "text/x-python",
   "name": "python",
   "nbconvert_exporter": "python",
   "pygments_lexer": "ipython3",
   "version": "3.8.5"
  },
  "toc": {
   "base_numbering": 1,
   "nav_menu": {},
   "number_sections": true,
   "sideBar": true,
   "skip_h1_title": false,
   "title_cell": "Table of Contents",
   "title_sidebar": "Contents",
   "toc_cell": false,
   "toc_position": {},
   "toc_section_display": true,
   "toc_window_display": false
  },
  "varInspector": {
   "cols": {
    "lenName": 16,
    "lenType": 16,
    "lenVar": 40
   },
   "kernels_config": {
    "python": {
     "delete_cmd_postfix": "",
     "delete_cmd_prefix": "del ",
     "library": "var_list.py",
     "varRefreshCmd": "print(var_dic_list())"
    },
    "r": {
     "delete_cmd_postfix": ") ",
     "delete_cmd_prefix": "rm(",
     "library": "var_list.r",
     "varRefreshCmd": "cat(var_dic_list()) "
    }
   },
   "types_to_exclude": [
    "module",
    "function",
    "builtin_function_or_method",
    "instance",
    "_Feature"
   ],
   "window_display": false
  }
 },
 "nbformat": 4,
 "nbformat_minor": 4
}
