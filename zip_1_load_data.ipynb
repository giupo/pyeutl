{
 "cells": [
  {
   "cell_type": "markdown",
   "metadata": {},
   "source": [
    "# Introduction"
   ]
  },
  {
   "cell_type": "markdown",
   "metadata": {},
   "source": [
    "Provided the data downloaded from www.euets.info as zip file, we extract the data using the *ziploader* sub-module:"
   ]
  },
  {
   "cell_type": "markdown",
   "metadata": {},
   "source": [
    "# Packages and options"
   ]
  },
  {
   "cell_type": "code",
   "execution_count": 1,
   "metadata": {},
   "outputs": [],
   "source": [
    "import pandas as pd\n",
    "import matplotlib as mpl\n",
    "import matplotlib.pyplot as plt\n",
    "from pyeutl.ziploader import (get_installations, get_accounts, get_transactions,\n",
    "                              get_compliance, get_account_holders) \n",
    "\n",
    "from pyeutl.ziploader.utils import (load_zipped_file, map_if_exists, get_mapper)\n",
    "from pyeutl.ziploader.category_mappings import (map_activity_category, map_account_category,\n",
    "                              map_nace_category)\n",
    "%load_ext autoreload\n",
    "%autoreload 2"
   ]
  },
  {
   "cell_type": "code",
   "execution_count": 2,
   "metadata": {},
   "outputs": [],
   "source": [
    "fn_zip = \"./eutl.zip\""
   ]
  },
  {
   "cell_type": "markdown",
   "metadata": {},
   "source": [
    "# Get Data"
   ]
  },
  {
   "cell_type": "markdown",
   "metadata": {},
   "source": [
    "Get installation data from zip file. The function merges information from lookup tables into the installation table:"
   ]
  },
  {
   "cell_type": "code",
   "execution_count": 3,
   "metadata": {},
   "outputs": [
    {
     "name": "stdout",
     "output_type": "stream",
     "text": [
      "<class 'pandas.core.frame.DataFrame'>\n",
      "RangeIndex: 17821 entries, 0 to 17820\n",
      "Data columns (total 32 columns):\n",
      " #   Column               Non-Null Count  Dtype  \n",
      "---  ------               --------------  -----  \n",
      " 0   id                   17821 non-null  object \n",
      " 1   name                 16205 non-null  object \n",
      " 2   registry_id          17821 non-null  object \n",
      " 3   activity_id          17821 non-null  int64  \n",
      " 4   eprtrID              5404 non-null   object \n",
      " 5   parentCompany        6348 non-null   object \n",
      " 6   subsidiaryCompany    3725 non-null   object \n",
      " 7   permitID             16205 non-null  object \n",
      " 8   designatorICAO       618 non-null    object \n",
      " 9   monitoringID         1615 non-null   object \n",
      " 10  monitoringExpiry     0 non-null      float64\n",
      " 11  monitoringFirstYear  1616 non-null   object \n",
      " 12  permitDateExpiry     4904 non-null   object \n",
      " 13  isAircraftOperator   17821 non-null  bool   \n",
      " 14  ec748_2009Code       1615 non-null   object \n",
      " 15  permitDateEntry      16205 non-null  object \n",
      " 16  addressMain          17821 non-null  object \n",
      " 17  addressSecondary     4099 non-null   object \n",
      " 18  postalCode           17818 non-null  object \n",
      " 19  city                 17818 non-null  object \n",
      " 20  country_id           17821 non-null  object \n",
      " 21  latitudeGoogle       16159 non-null  float64\n",
      " 22  longitudeGoogle      16159 non-null  float64\n",
      " 23  nace_id              16678 non-null  float64\n",
      " 24  euEntitlement        14109 non-null  float64\n",
      " 25  chEntitlement        93 non-null     float64\n",
      " 26  activity             17821 non-null  object \n",
      " 27  activityCategory     17821 non-null  object \n",
      " 28  registry             17821 non-null  object \n",
      " 29  country              17821 non-null  object \n",
      " 30  nace                 16678 non-null  object \n",
      " 31  naceCategory         16678 non-null  object \n",
      "dtypes: bool(1), float64(6), int64(1), object(24)\n",
      "memory usage: 4.2+ MB\n"
     ]
    }
   ],
   "source": [
    "df_inst = get_installations(fn_zip, )\n",
    "df_inst.info()"
   ]
  },
  {
   "cell_type": "markdown",
   "metadata": {},
   "source": [
    "Get account holder informations"
   ]
  },
  {
   "cell_type": "code",
   "execution_count": 4,
   "metadata": {},
   "outputs": [
    {
     "name": "stdout",
     "output_type": "stream",
     "text": [
      "<class 'pandas.core.frame.DataFrame'>\n",
      "RangeIndex: 17981 entries, 0 to 17980\n",
      "Data columns (total 8 columns):\n",
      " #   Column                              Non-Null Count  Dtype \n",
      "---  ------                              --------------  ----- \n",
      " 0   id                                  17981 non-null  int64 \n",
      " 1   accountHolderName                   17955 non-null  object\n",
      " 2   accountHolderAddressmain            17923 non-null  object\n",
      " 3   accountHolderPostalcode             17855 non-null  object\n",
      " 4   accountHolderCity                   17940 non-null  object\n",
      " 5   accountHolderLegalentityidentifier  1767 non-null   object\n",
      " 6   accountHolderCountry_id             17902 non-null  object\n",
      " 7   accountHolderCountry                17981 non-null  object\n",
      "dtypes: int64(1), object(7)\n",
      "memory usage: 1.1+ MB\n"
     ]
    }
   ],
   "source": [
    "df_accountHolder = get_account_holders(fn_zip)\n",
    "df_accountHolder = df_accountHolder.rename(columns = {\n",
    "    c: \"accountHolder\" + c.capitalize() for c in df_accountHolder.columns if c!= \"id\"})\n",
    "df_accountHolder.info() "
   ]
  },
  {
   "cell_type": "markdown",
   "metadata": {},
   "source": [
    "Next, load the account data. The account dataframe includes the information of related look-up tables. If a dataframe with installation or account holder information is passed to the function, this information is also merged into the account table:"
   ]
  },
  {
   "cell_type": "code",
   "execution_count": 5,
   "metadata": {},
   "outputs": [
    {
     "name": "stdout",
     "output_type": "stream",
     "text": [
      "<class 'pandas.core.frame.DataFrame'>\n",
      "Int64Index: 42445 entries, 0 to 42444\n",
      "Data columns (total 29 columns):\n",
      " #   Column                              Non-Null Count  Dtype  \n",
      "---  ------                              --------------  -----  \n",
      " 0   id                                  42445 non-null  int64  \n",
      " 1   name                                41618 non-null  object \n",
      " 2   registry_id                         42445 non-null  object \n",
      " 3   accountHolder_id                    41608 non-null  float64\n",
      " 4   accountType_id                      41585 non-null  object \n",
      " 5   isOpen                              41612 non-null  object \n",
      " 6   openingDate                         41576 non-null  object \n",
      " 7   closingDate                         26283 non-null  object \n",
      " 8   commitmentPeriod                    40615 non-null  object \n",
      " 9   companyRegistrationNumber           37266 non-null  object \n",
      " 10  isRegisteredEutl                    41612 non-null  object \n",
      " 11  installation_id                     29201 non-null  object \n",
      " 12  registry                            42445 non-null  object \n",
      " 13  accountType                         41585 non-null  object \n",
      " 14  accountCategory                     41585 non-null  object \n",
      " 15  installationName                    27585 non-null  object \n",
      " 16  activity_id                         29201 non-null  float64\n",
      " 17  activity                            29201 non-null  object \n",
      " 18  activityCategory                    29201 non-null  object \n",
      " 19  nace_id                             27807 non-null  float64\n",
      " 20  nace                                27807 non-null  object \n",
      " 21  naceCategory                        27807 non-null  object \n",
      " 22  accountHolderName                   41582 non-null  object \n",
      " 23  accountHolderAddressmain            41550 non-null  object \n",
      " 24  accountHolderPostalcode             41446 non-null  object \n",
      " 25  accountHolderCity                   41567 non-null  object \n",
      " 26  accountHolderLegalentityidentifier  5854 non-null   object \n",
      " 27  accountHolderCountry_id             41524 non-null  object \n",
      " 28  accountHolderCountry                41608 non-null  object \n",
      "dtypes: float64(3), int64(1), object(25)\n",
      "memory usage: 9.7+ MB\n"
     ]
    }
   ],
   "source": [
    "df_acc = get_accounts(fn_zip, \n",
    "                  df_installation=df_inst[[\"id\", \"name\", \"activity_id\", \"activity\", \"activityCategory\", \n",
    "                                                   \"nace_id\", \"nace\", \"naceCategory\"]],\n",
    "                    df_accountHolder=df_accountHolder)\n",
    "df_acc.info()\n",
    "# export the list with all accounts and related installation and account holder informations\n",
    "df_acc.to_excel(\"eutl_account_full_list.xlsx\", index=False)"
   ]
  },
  {
   "cell_type": "markdown",
   "metadata": {},
   "source": [
    "Compliance data follow the same logic:"
   ]
  },
  {
   "cell_type": "code",
   "execution_count": 6,
   "metadata": {},
   "outputs": [
    {
     "name": "stdout",
     "output_type": "stream",
     "text": [
      "<class 'pandas.core.frame.DataFrame'>\n",
      "Int64Index: 478031 entries, 0 to 478030\n",
      "Data columns (total 46 columns):\n",
      " #   Column                Non-Null Count   Dtype  \n",
      "---  ------                --------------   -----  \n",
      " 0   id                    478031 non-null  object \n",
      " 1   installation_id       478031 non-null  object \n",
      " 2   year                  478031 non-null  int64  \n",
      " 3   reportedInSystem      478031 non-null  object \n",
      " 4   euetsPhase            478031 non-null  object \n",
      " 5   compliance_id         209014 non-null  object \n",
      " 6   allocatedFree         223739 non-null  float64\n",
      " 7   allocatedNewEntrance  6886 non-null    float64\n",
      " 8   allocatedTotal        478031 non-null  int64  \n",
      " 9   allocated10c          1548 non-null    float64\n",
      " 10  verified              190433 non-null  float64\n",
      " 11  verifiedCummulative   198601 non-null  float64\n",
      " 12  verifiedUpdated       478031 non-null  bool   \n",
      " 13  surrendered           174288 non-null  float64\n",
      " 14  complianceCode        209014 non-null  object \n",
      " 15  name                  421330 non-null  object \n",
      " 16  registry_id           478031 non-null  object \n",
      " 17  activity_id           478031 non-null  int64  \n",
      " 18  eprtrID               140504 non-null  object \n",
      " 19  parentCompany         165048 non-null  object \n",
      " 20  subsidiaryCompany     96850 non-null   object \n",
      " 21  permitID              421330 non-null  object \n",
      " 22  designatorICAO        22074 non-null   object \n",
      " 23  monitoringID          56664 non-null   object \n",
      " 24  monitoringExpiry      0 non-null       float64\n",
      " 25  monitoringFirstYear   56701 non-null   object \n",
      " 26  permitDateExpiry      127504 non-null  object \n",
      " 27  isAircraftOperator    478031 non-null  bool   \n",
      " 28  ec748_2009Code        56664 non-null   object \n",
      " 29  permitDateEntry       421330 non-null  object \n",
      " 30  addressMain           478031 non-null  object \n",
      " 31  addressSecondary      106574 non-null  object \n",
      " 32  postalCode            477953 non-null  object \n",
      " 33  city                  477953 non-null  object \n",
      " 34  country_id            478031 non-null  object \n",
      " 35  latitudeGoogle        420134 non-null  float64\n",
      " 36  longitudeGoogle       420134 non-null  float64\n",
      " 37  nace_id               448313 non-null  float64\n",
      " 38  euEntitlement         380815 non-null  float64\n",
      " 39  chEntitlement         3441 non-null    float64\n",
      " 40  activity              478031 non-null  object \n",
      " 41  activityCategory      478031 non-null  object \n",
      " 42  registry              478031 non-null  object \n",
      " 43  country               478031 non-null  object \n",
      " 44  nace                  448313 non-null  object \n",
      " 45  naceCategory          448313 non-null  object \n",
      "dtypes: bool(2), float64(12), int64(3), object(29)\n",
      "memory usage: 165.0+ MB\n"
     ]
    }
   ],
   "source": [
    "df_comp = get_compliance(fn_zip, df_installation=df_inst)\n",
    "df_comp.info()"
   ]
  },
  {
   "cell_type": "markdown",
   "metadata": {},
   "source": [
    "Transactions follow the same logic also providing the descriptions provided in the look-up tables. In addition, we can pass a table with account information. The transaction loader also allows to resample the transaction data to a higher frequency: "
   ]
  },
  {
   "cell_type": "code",
   "execution_count": 7,
   "metadata": {},
   "outputs": [
    {
     "name": "stdout",
     "output_type": "stream",
     "text": [
      "<class 'pandas.core.frame.DataFrame'>\n",
      "Int64Index: 1737918 entries, 0 to 1737917\n",
      "Data columns (total 42 columns):\n",
      " #   Column                           Dtype         \n",
      "---  ------                           -----         \n",
      " 0   date                             datetime64[ns]\n",
      " 1   id                               int64         \n",
      " 2   transactionID                    object        \n",
      " 3   transactionTypeMain_id           int64         \n",
      " 4   transactionTypeSupplementary_id  int64         \n",
      " 5   transferringAccount_id           float64       \n",
      " 6   acquiringAccount_id              float64       \n",
      " 7   unitType_id                      object        \n",
      " 8   amount                           int64         \n",
      " 9   transactionTypeMain              object        \n",
      " 10  transactionTypeSupplementary     object        \n",
      " 11  unitType                         object        \n",
      " 12  transferringName                 object        \n",
      " 13  transferringRegistry_id          object        \n",
      " 14  transferringAccountHolder_id     float64       \n",
      " 15  transferringAccountType_id       object        \n",
      " 16  transferringIsRegisteredEutl     object        \n",
      " 17  transferringInstallation_id      object        \n",
      " 18  transferringRegistry             object        \n",
      " 19  transferringAccountType          object        \n",
      " 20  transferringAccountCategory      object        \n",
      " 21  transferringInstallationName     object        \n",
      " 22  transferringActivity_id          float64       \n",
      " 23  transferringActivity             object        \n",
      " 24  transferringNace_id              float64       \n",
      " 25  transferringNace                 object        \n",
      " 26  transferringNaceCategory         object        \n",
      " 27  acquiringName                    object        \n",
      " 28  acquiringRegistry_id             object        \n",
      " 29  acquiringAccountHolder_id        float64       \n",
      " 30  acquiringAccountType_id          object        \n",
      " 31  acquiringIsRegisteredEutl        object        \n",
      " 32  acquiringInstallation_id         object        \n",
      " 33  acquiringRegistry                object        \n",
      " 34  acquiringAccountType             object        \n",
      " 35  acquiringAccountCategory         object        \n",
      " 36  acquiringInstallationName        object        \n",
      " 37  acquiringActivity_id             float64       \n",
      " 38  acquiringActivity                object        \n",
      " 39  acquiringNace_id                 float64       \n",
      " 40  acquiringNace                    object        \n",
      " 41  acquiringNaceCategory            object        \n",
      "dtypes: datetime64[ns](1), float64(8), int64(4), object(29)\n",
      "memory usage: 570.1+ MB\n"
     ]
    }
   ],
   "source": [
    "freq = \"M\"\n",
    "# get transactions merged with account information\n",
    "cols = ['id', 'name', 'registry_id', 'accountHolder_id', 'accountType_id',\n",
    "        'isRegisteredEutl', 'installation_id', 'registry', 'accountType', \n",
    "        'accountCategory', 'installationName', 'activity_id', 'activity', \n",
    "        'nace_id', 'nace', \"naceCategory\" ]\n",
    "df_trans = get_transactions(fn_zip, drop=[\"project_id\"], freq=freq, \n",
    "                      df_account=df_acc[cols])\n",
    "df_trans.info()"
   ]
  },
  {
   "cell_type": "markdown",
   "metadata": {},
   "source": [
    "We can wrap all of this into a single function, e.g.:"
   ]
  },
  {
   "cell_type": "code",
   "execution_count": null,
   "metadata": {
    "code_folding": []
   },
   "outputs": [],
   "source": [
    "def load_data(fn_zip, freq=None):\n",
    "    \"\"\"Load installation account and transaction data from zip file\n",
    "    :param fn_zip: <string> name of zip file with eutl data\n",
    "    :param freq: <string> frequency for resampling of transaction data\"\"\"\n",
    "    # get installations\n",
    "    df_inst = get_installations(fn_zip)\n",
    "    # get accounts with selected installation information\n",
    "    df_acc = get_accounts(fn_zip, \n",
    "                          df_installation=df_inst[[\"id\", \"name\", \"activity_id\", \"activity\", \"activityCategory\", \n",
    "                                                   \"nace_id\", \"nace\", \"naceCategory\"]]) \n",
    "    # get compliance data with installation information\n",
    "    df_comp = get_compliance(fn_zip, df_installation=df_inst)    \n",
    "    # get transactions merged with account information\n",
    "    cols = ['id', 'name', 'registry_id', 'accountHolder_id', 'accountType_id',\n",
    "            'isRegisteredEutl', 'installation_id', 'registry', 'accountType', \n",
    "            'accountCategory', 'installationName', 'activity_id', 'activity', \n",
    "            'nace_id', 'nace', \"naceCategory\" ]\n",
    "    df_trans = get_transactions(fn_zip, drop=[\"project_id\"], freq=freq, \n",
    "                          df_account=df_acc[cols])\n",
    "    return df_inst, df_acc, df_comp, df_trans\n",
    "\n",
    "df_inst, df_acc, df_comp, df_trans = load_data(fn_zip, freq=None)"
   ]
  },
  {
   "cell_type": "code",
   "execution_count": null,
   "metadata": {},
   "outputs": [],
   "source": []
  }
 ],
 "metadata": {
  "kernelspec": {
   "display_name": "Python 3 (ipykernel)",
   "language": "python",
   "name": "python3"
  },
  "language_info": {
   "codemirror_mode": {
    "name": "ipython",
    "version": 3
   },
   "file_extension": ".py",
   "mimetype": "text/x-python",
   "name": "python",
   "nbconvert_exporter": "python",
   "pygments_lexer": "ipython3",
   "version": "3.9.13"
  },
  "toc": {
   "base_numbering": 1,
   "nav_menu": {},
   "number_sections": true,
   "sideBar": true,
   "skip_h1_title": false,
   "title_cell": "Table of Contents",
   "title_sidebar": "Contents",
   "toc_cell": false,
   "toc_position": {},
   "toc_section_display": true,
   "toc_window_display": false
  },
  "varInspector": {
   "cols": {
    "lenName": 16,
    "lenType": 16,
    "lenVar": 40
   },
   "kernels_config": {
    "python": {
     "delete_cmd_postfix": "",
     "delete_cmd_prefix": "del ",
     "library": "var_list.py",
     "varRefreshCmd": "print(var_dic_list())"
    },
    "r": {
     "delete_cmd_postfix": ") ",
     "delete_cmd_prefix": "rm(",
     "library": "var_list.r",
     "varRefreshCmd": "cat(var_dic_list()) "
    }
   },
   "types_to_exclude": [
    "module",
    "function",
    "builtin_function_or_method",
    "instance",
    "_Feature"
   ],
   "window_display": false
  }
 },
 "nbformat": 4,
 "nbformat_minor": 4
}
