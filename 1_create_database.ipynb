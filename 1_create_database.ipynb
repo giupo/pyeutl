{
 "cells": [
  {
   "cell_type": "markdown",
   "metadata": {},
   "source": [
    "# Introduction"
   ]
  },
  {
   "cell_type": "markdown",
   "metadata": {},
   "source": [
    "The European Transaction Log (EUTL) is the backbone of the European Union Emissions Trading System (EUETS). It implements the transfer of emission allowances between parties active in the EUETS. The EUTL provides data on regulated installations, their emissions as well as transfers of allowances. Provided data extracted from the EUTL (see <a href=\"https://euets.info/background\">EUETS.INFO</a>), this notebook builds a postgres database to easily access the EUTL data based on a Object Relation Mapper (ORM). "
   ]
  },
  {
   "cell_type": "markdown",
   "metadata": {},
   "source": [
    "# Prerequisits"
   ]
  },
  {
   "cell_type": "markdown",
   "metadata": {},
   "source": [
    "We use a postgres database and assume that an empty local database exists.  The database is named \"eutl_orm\" and the user user \"eutlAdmin\" with password \"1234\" has full access, i.e., has granted privileges to read, write, and delete tables in the database.\n",
    "\n",
    "To create this database, you can follow three steps:\n",
    "\n",
    "1. Download and install Postgres from https://www.postgresql.org/\n",
    "2. Using pgAdmin, create a new user named \"eutlAdmin\" with password \"1234\" (https://www.pgadmin.org/docs/pgadmin4/4.30/user_management.html) \n",
    "3. Using pgAdmin, create a new database named eutl_orm\" using eutlAdmin as owner (see https://www.postgresqltutorial.com/postgresql-create-database/ under \"3 - Creating new Database using pgAdmin\")"
   ]
  },
  {
   "cell_type": "markdown",
   "metadata": {},
   "source": [
    "Set up your python environment using the requirements.txt file (something like  \"pip install -r requirements.txt\" in your environment)."
   ]
  },
  {
   "cell_type": "markdown",
   "metadata": {},
   "source": [
    "Finally, download the data from <a href=\"https://euets.info/background\">EUETS.INFO</a> and store the .zip file."
   ]
  },
  {
   "cell_type": "markdown",
   "metadata": {},
   "source": [
    "# Packages"
   ]
  },
  {
   "cell_type": "markdown",
   "metadata": {},
   "source": [
    "The DataAccessLayer provides access to the database"
   ]
  },
  {
   "cell_type": "code",
   "execution_count": 3,
   "metadata": {},
   "outputs": [],
   "source": [
    "from eutl_orm import DataAccessLayer"
   ]
  },
  {
   "cell_type": "markdown",
   "metadata": {},
   "source": [
    "We need to specify\n",
    "\n",
    "1. Settings to access the database\n",
    "2. Path to the zip-file containing the eutl data"
   ]
  },
  {
   "cell_type": "code",
   "execution_count": 4,
   "metadata": {},
   "outputs": [],
   "source": [
    "# database connection settings\n",
    "connectionSettings = dict(\n",
    "    user=\"eutlAdmin\", \n",
    "    host=\"localhost\", \n",
    "    db=\"eutl_orm\", \n",
    "    passw=\"1234\",\n",
    "    port=5432\n",
    ")\n",
    "\n",
    "# path to zip-file with eutl data\n",
    "fn_source = \"./eutl.zip\""
   ]
  },
  {
   "cell_type": "markdown",
   "metadata": {},
   "source": [
    "# Create Database"
   ]
  },
  {
   "cell_type": "markdown",
   "metadata": {},
   "source": [
    "First, create the database access layer"
   ]
  },
  {
   "cell_type": "code",
   "execution_count": 5,
   "metadata": {},
   "outputs": [],
   "source": [
    "dal = DataAccessLayer(**connectionSettings)"
   ]
  },
  {
   "cell_type": "markdown",
   "metadata": {},
   "source": [
    "Given the zip-folder, populate the database. If the database is not empty, all data in the database will be deleted. \n",
    "\n",
    "**Note** This can take up to about 10 minutes."
   ]
  },
  {
   "cell_type": "code",
   "execution_count": 6,
   "metadata": {},
   "outputs": [
    {
     "name": "stdout",
     "output_type": "stream",
     "text": [
      "Do really want to drop all tables? Enter Yes for confirmation: ········\n",
      "0 transaction\n",
      "1 surrender\n",
      "2 compliance\n",
      "3 account\n",
      "4 offset_project\n",
      "5 installation\n",
      "6 account_holder\n",
      "7 unit_type\n",
      "8 transaction_type_supplementary_code\n",
      "9 transaction_type_main_code\n",
      "10 nace_code\n",
      "11 country_code\n",
      "12 compliance_code\n",
      "13 activity_type_code\n",
      "14 account_type_code\n",
      "Tables deleted\n",
      "---- Insert lookup tables\n",
      "---- Insert offset projects\n",
      "---- Insert installations\n",
      "---- Insert compliance data\n",
      "---- Insert surrendering data\n",
      "---- Insert account holders\n",
      "---- Insert accounts\n",
      "---- Insert transactions\n"
     ]
    }
   ],
   "source": [
    "dal.create_database(fn_source)"
   ]
  },
  {
   "cell_type": "code",
   "execution_count": null,
   "metadata": {},
   "outputs": [],
   "source": []
  }
 ],
 "metadata": {
  "kernelspec": {
   "display_name": "Python [conda env:py38_eutl]",
   "language": "python",
   "name": "conda-env-py38_eutl-py"
  },
  "language_info": {
   "codemirror_mode": {
    "name": "ipython",
    "version": 3
   },
   "file_extension": ".py",
   "mimetype": "text/x-python",
   "name": "python",
   "nbconvert_exporter": "python",
   "pygments_lexer": "ipython3",
   "version": "3.8.5"
  },
  "toc": {
   "base_numbering": 1,
   "nav_menu": {},
   "number_sections": true,
   "sideBar": true,
   "skip_h1_title": false,
   "title_cell": "Table of Contents",
   "title_sidebar": "Contents",
   "toc_cell": false,
   "toc_position": {},
   "toc_section_display": true,
   "toc_window_display": false
  },
  "varInspector": {
   "cols": {
    "lenName": 16,
    "lenType": 16,
    "lenVar": 40
   },
   "kernels_config": {
    "python": {
     "delete_cmd_postfix": "",
     "delete_cmd_prefix": "del ",
     "library": "var_list.py",
     "varRefreshCmd": "print(var_dic_list())"
    },
    "r": {
     "delete_cmd_postfix": ") ",
     "delete_cmd_prefix": "rm(",
     "library": "var_list.r",
     "varRefreshCmd": "cat(var_dic_list()) "
    }
   },
   "types_to_exclude": [
    "module",
    "function",
    "builtin_function_or_method",
    "instance",
    "_Feature"
   ],
   "window_display": false
  }
 },
 "nbformat": 4,
 "nbformat_minor": 4
}
